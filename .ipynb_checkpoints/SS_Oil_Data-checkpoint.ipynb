{
 "cells": [
  {
   "cell_type": "code",
   "execution_count": 37,
   "metadata": {},
   "outputs": [],
   "source": [
    "import eia\n",
    "import os\n",
    "import datetime\n",
    "import pandas as pd\n",
    "import json\n",
    "import numpy as np\n",
    "import requests\n",
    "import quandl\n",
    "import plotly.express as px\n",
    "import panel as pn\n",
    "from panel.interact import interact\n",
    "from panel import widgets\n",
    "from pathlib import Path\n",
    "import matplotlib.pyplot as plts\n",
    "import hvplot.pandas \n",
    "pn.extension(\"plotly\")"
   ]
  },
  {
   "cell_type": "code",
   "execution_count": 38,
   "metadata": {},
   "outputs": [],
   "source": [
    "mydata = quandl.get(\"EIA/PET_RWTC_D\")"
   ]
  },
  {
   "cell_type": "code",
   "execution_count": 39,
   "metadata": {},
   "outputs": [
    {
     "data": {
      "text/html": [
       "<div>\n",
       "<style scoped>\n",
       "    .dataframe tbody tr th:only-of-type {\n",
       "        vertical-align: middle;\n",
       "    }\n",
       "\n",
       "    .dataframe tbody tr th {\n",
       "        vertical-align: top;\n",
       "    }\n",
       "\n",
       "    .dataframe thead th {\n",
       "        text-align: right;\n",
       "    }\n",
       "</style>\n",
       "<table border=\"1\" class=\"dataframe\">\n",
       "  <thead>\n",
       "    <tr style=\"text-align: right;\">\n",
       "      <th></th>\n",
       "      <th>Value</th>\n",
       "    </tr>\n",
       "    <tr>\n",
       "      <th>Date</th>\n",
       "      <th></th>\n",
       "    </tr>\n",
       "  </thead>\n",
       "  <tbody>\n",
       "    <tr>\n",
       "      <th>2020-04-28</th>\n",
       "      <td>12.40</td>\n",
       "    </tr>\n",
       "    <tr>\n",
       "      <th>2020-04-29</th>\n",
       "      <td>15.04</td>\n",
       "    </tr>\n",
       "    <tr>\n",
       "      <th>2020-04-30</th>\n",
       "      <td>19.23</td>\n",
       "    </tr>\n",
       "    <tr>\n",
       "      <th>2020-05-01</th>\n",
       "      <td>19.72</td>\n",
       "    </tr>\n",
       "    <tr>\n",
       "      <th>2020-05-04</th>\n",
       "      <td>20.47</td>\n",
       "    </tr>\n",
       "  </tbody>\n",
       "</table>\n",
       "</div>"
      ],
      "text/plain": [
       "            Value\n",
       "Date             \n",
       "2020-04-28  12.40\n",
       "2020-04-29  15.04\n",
       "2020-04-30  19.23\n",
       "2020-05-01  19.72\n",
       "2020-05-04  20.47"
      ]
     },
     "execution_count": 39,
     "metadata": {},
     "output_type": "execute_result"
    }
   ],
   "source": [
    "mydata.tail()"
   ]
  },
  {
   "cell_type": "code",
   "execution_count": 40,
   "metadata": {},
   "outputs": [],
   "source": [
    "mydata = quandl.get(\"EIA/PET_RWTC_D\", collapse=\"monthly\")"
   ]
  },
  {
   "cell_type": "code",
   "execution_count": 41,
   "metadata": {},
   "outputs": [
    {
     "data": {
      "text/html": [
       "<div>\n",
       "<style scoped>\n",
       "    .dataframe tbody tr th:only-of-type {\n",
       "        vertical-align: middle;\n",
       "    }\n",
       "\n",
       "    .dataframe tbody tr th {\n",
       "        vertical-align: top;\n",
       "    }\n",
       "\n",
       "    .dataframe thead th {\n",
       "        text-align: right;\n",
       "    }\n",
       "</style>\n",
       "<table border=\"1\" class=\"dataframe\">\n",
       "  <thead>\n",
       "    <tr style=\"text-align: right;\">\n",
       "      <th></th>\n",
       "      <th>Value</th>\n",
       "    </tr>\n",
       "    <tr>\n",
       "      <th>Date</th>\n",
       "      <th></th>\n",
       "    </tr>\n",
       "  </thead>\n",
       "  <tbody>\n",
       "    <tr>\n",
       "      <th>1986-01-31</th>\n",
       "      <td>18.95</td>\n",
       "    </tr>\n",
       "    <tr>\n",
       "      <th>1986-02-28</th>\n",
       "      <td>13.23</td>\n",
       "    </tr>\n",
       "    <tr>\n",
       "      <th>1986-03-31</th>\n",
       "      <td>10.25</td>\n",
       "    </tr>\n",
       "    <tr>\n",
       "      <th>1986-04-30</th>\n",
       "      <td>13.38</td>\n",
       "    </tr>\n",
       "    <tr>\n",
       "      <th>1986-05-31</th>\n",
       "      <td>14.30</td>\n",
       "    </tr>\n",
       "  </tbody>\n",
       "</table>\n",
       "</div>"
      ],
      "text/plain": [
       "            Value\n",
       "Date             \n",
       "1986-01-31  18.95\n",
       "1986-02-28  13.23\n",
       "1986-03-31  10.25\n",
       "1986-04-30  13.38\n",
       "1986-05-31  14.30"
      ]
     },
     "execution_count": 41,
     "metadata": {},
     "output_type": "execute_result"
    }
   ],
   "source": [
    "mydata.head()"
   ]
  },
  {
   "cell_type": "code",
   "execution_count": 42,
   "metadata": {},
   "outputs": [
    {
     "data": {
      "text/plain": [
       "<matplotlib.axes._subplots.AxesSubplot at 0x11d7ca250>"
      ]
     },
     "execution_count": 42,
     "metadata": {},
     "output_type": "execute_result"
    },
    {
     "data": {
      "image/png": "[encoded data removed]",
      "text/plain": [
       "<Figure size 432x288 with 1 Axes>"
      ]
     },
     "metadata": {
      "needs_background": "light"
     },
     "output_type": "display_data"
    }
   ],
   "source": [
    "mydata.plot(kind='line')"
   ]
  },
  {
   "cell_type": "code",
   "execution_count": 43,
   "metadata": {},
   "outputs": [
    {
     "data": {
      "text/plain": [
       "[<matplotlib.lines.Line2D at 0x11db2e3d0>]"
      ]
     },
     "execution_count": 43,
     "metadata": {},
     "output_type": "execute_result"
    },
    {
     "data": {
      "image/png": "[encoded data removed]",
      "text/plain": [
       "<Figure size 720x360 with 1 Axes>"
      ]
     },
     "metadata": {
      "needs_background": "light"
     },
     "output_type": "display_data"
    }
   ],
   "source": [
    "import matplotlib.pyplot as plts\n",
    "\n",
    "plts.figure(figsize=(10,5))\n",
    "plts.plot(mydata['Value'])\n",
    "plts.plot(mydata['Value'])"
   ]
  },
  {
   "cell_type": "code",
   "execution_count": 44,
   "metadata": {},
   "outputs": [],
   "source": [
    "import hvplot.pandas\n",
    "from pathlib import Path\n",
    "#mydata.hvplot.line()"
   ]
  },
  {
   "cell_type": "code",
   "execution_count": 45,
   "metadata": {},
   "outputs": [],
   "source": [
    "#px.scatter(mydata)"
   ]
  },
  {
   "cell_type": "code",
   "execution_count": 46,
   "metadata": {},
   "outputs": [
    {
     "data": {
      "text/html": [
       "<div>\n",
       "<style scoped>\n",
       "    .dataframe tbody tr th:only-of-type {\n",
       "        vertical-align: middle;\n",
       "    }\n",
       "\n",
       "    .dataframe tbody tr th {\n",
       "        vertical-align: top;\n",
       "    }\n",
       "\n",
       "    .dataframe thead th {\n",
       "        text-align: right;\n",
       "    }\n",
       "</style>\n",
       "<table border=\"1\" class=\"dataframe\">\n",
       "  <thead>\n",
       "    <tr style=\"text-align: right;\">\n",
       "      <th></th>\n",
       "      <th>Value</th>\n",
       "    </tr>\n",
       "    <tr>\n",
       "      <th>Date</th>\n",
       "      <th></th>\n",
       "    </tr>\n",
       "  </thead>\n",
       "  <tbody>\n",
       "    <tr>\n",
       "      <th>1986-01-31</th>\n",
       "      <td>NaN</td>\n",
       "    </tr>\n",
       "    <tr>\n",
       "      <th>1986-02-28</th>\n",
       "      <td>-0.301847</td>\n",
       "    </tr>\n",
       "    <tr>\n",
       "      <th>1986-03-31</th>\n",
       "      <td>-0.225246</td>\n",
       "    </tr>\n",
       "    <tr>\n",
       "      <th>1986-04-30</th>\n",
       "      <td>0.305366</td>\n",
       "    </tr>\n",
       "    <tr>\n",
       "      <th>1986-05-31</th>\n",
       "      <td>0.068759</td>\n",
       "    </tr>\n",
       "  </tbody>\n",
       "</table>\n",
       "</div>"
      ],
      "text/plain": [
       "               Value\n",
       "Date                \n",
       "1986-01-31       NaN\n",
       "1986-02-28 -0.301847\n",
       "1986-03-31 -0.225246\n",
       "1986-04-30  0.305366\n",
       "1986-05-31  0.068759"
      ]
     },
     "execution_count": 46,
     "metadata": {},
     "output_type": "execute_result"
    }
   ],
   "source": [
    "daily_returns = mydata.pct_change()\n",
    "daily_returns.head()"
   ]
  },
  {
   "cell_type": "code",
   "execution_count": 47,
   "metadata": {},
   "outputs": [
    {
     "data": {
      "text/plain": [
       "0.005418119446889139"
      ]
     },
     "execution_count": 47,
     "metadata": {},
     "output_type": "execute_result"
    }
   ],
   "source": [
    "avg_daily_return = daily_returns.mean()['Value']\n",
    "avg_daily_return"
   ]
  },
  {
   "cell_type": "code",
   "execution_count": 48,
   "metadata": {},
   "outputs": [
    {
     "data": {
      "text/plain": [
       "0.10083454491190819"
      ]
     },
     "execution_count": 48,
     "metadata": {},
     "output_type": "execute_result"
    }
   ],
   "source": [
    "std_dev_daily_return = daily_returns.std()['Value']\n",
    "std_dev_daily_return"
   ]
  },
  {
   "cell_type": "code",
   "execution_count": 7,
   "metadata": {},
   "outputs": [],
   "source": [
    "#COVID Data Set\n",
    "# Reading and cleaning data\n",
    "covid_data = Path('daily.csv')\n",
    "c_df = pd.read_csv(covid_data, parse_dates=['date'])"
   ]
  },
  {
   "cell_type": "code",
   "execution_count": 8,
   "metadata": {},
   "outputs": [
    {
     "data": {
      "text/html": [
       "<div>\n",
       "<style scoped>\n",
       "    .dataframe tbody tr th:only-of-type {\n",
       "        vertical-align: middle;\n",
       "    }\n",
       "\n",
       "    .dataframe tbody tr th {\n",
       "        vertical-align: top;\n",
       "    }\n",
       "\n",
       "    .dataframe thead th {\n",
       "        text-align: right;\n",
       "    }\n",
       "</style>\n",
       "<table border=\"1\" class=\"dataframe\">\n",
       "  <thead>\n",
       "    <tr style=\"text-align: right;\">\n",
       "      <th></th>\n",
       "      <th>date</th>\n",
       "      <th>states</th>\n",
       "      <th>positive</th>\n",
       "      <th>negative</th>\n",
       "      <th>pending</th>\n",
       "      <th>hospitalizedCurrently</th>\n",
       "      <th>hospitalizedCumulative</th>\n",
       "      <th>inIcuCurrently</th>\n",
       "      <th>inIcuCumulative</th>\n",
       "      <th>onVentilatorCurrently</th>\n",
       "      <th>...</th>\n",
       "      <th>hospitalized</th>\n",
       "      <th>total</th>\n",
       "      <th>totalTestResults</th>\n",
       "      <th>posNeg</th>\n",
       "      <th>fips</th>\n",
       "      <th>deathIncrease</th>\n",
       "      <th>hospitalizedIncrease</th>\n",
       "      <th>negativeIncrease</th>\n",
       "      <th>positiveIncrease</th>\n",
       "      <th>totalTestResultsIncrease</th>\n",
       "    </tr>\n",
       "  </thead>\n",
       "  <tbody>\n",
       "    <tr>\n",
       "      <th>0</th>\n",
       "      <td>2020-05-08</td>\n",
       "      <td>56</td>\n",
       "      <td>1275916</td>\n",
       "      <td>7132872.0</td>\n",
       "      <td>3307.0</td>\n",
       "      <td>47718.0</td>\n",
       "      <td>142037.0</td>\n",
       "      <td>11780.0</td>\n",
       "      <td>6294.0</td>\n",
       "      <td>6788.0</td>\n",
       "      <td>...</td>\n",
       "      <td>142037.0</td>\n",
       "      <td>8412095</td>\n",
       "      <td>8408788</td>\n",
       "      <td>8408788</td>\n",
       "      <td>NaN</td>\n",
       "      <td>1760.0</td>\n",
       "      <td>6861.0</td>\n",
       "      <td>275496.0</td>\n",
       "      <td>27779.0</td>\n",
       "      <td>303275.0</td>\n",
       "    </tr>\n",
       "    <tr>\n",
       "      <th>1</th>\n",
       "      <td>2020-05-07</td>\n",
       "      <td>56</td>\n",
       "      <td>1248137</td>\n",
       "      <td>6857376.0</td>\n",
       "      <td>3171.0</td>\n",
       "      <td>49130.0</td>\n",
       "      <td>135176.0</td>\n",
       "      <td>12137.0</td>\n",
       "      <td>5174.0</td>\n",
       "      <td>7070.0</td>\n",
       "      <td>...</td>\n",
       "      <td>135176.0</td>\n",
       "      <td>8108684</td>\n",
       "      <td>8105513</td>\n",
       "      <td>8105513</td>\n",
       "      <td>NaN</td>\n",
       "      <td>2746.0</td>\n",
       "      <td>3699.0</td>\n",
       "      <td>291140.0</td>\n",
       "      <td>27580.0</td>\n",
       "      <td>318720.0</td>\n",
       "    </tr>\n",
       "    <tr>\n",
       "      <th>2</th>\n",
       "      <td>2020-05-06</td>\n",
       "      <td>56</td>\n",
       "      <td>1220557</td>\n",
       "      <td>6566236.0</td>\n",
       "      <td>2742.0</td>\n",
       "      <td>50227.0</td>\n",
       "      <td>131477.0</td>\n",
       "      <td>9380.0</td>\n",
       "      <td>4911.0</td>\n",
       "      <td>4753.0</td>\n",
       "      <td>...</td>\n",
       "      <td>131477.0</td>\n",
       "      <td>7789535</td>\n",
       "      <td>7786793</td>\n",
       "      <td>7786793</td>\n",
       "      <td>NaN</td>\n",
       "      <td>1949.0</td>\n",
       "      <td>2120.0</td>\n",
       "      <td>217513.0</td>\n",
       "      <td>24952.0</td>\n",
       "      <td>242465.0</td>\n",
       "    </tr>\n",
       "    <tr>\n",
       "      <th>3</th>\n",
       "      <td>2020-05-05</td>\n",
       "      <td>56</td>\n",
       "      <td>1195605</td>\n",
       "      <td>6348723.0</td>\n",
       "      <td>2633.0</td>\n",
       "      <td>50906.0</td>\n",
       "      <td>129357.0</td>\n",
       "      <td>9348.0</td>\n",
       "      <td>4794.0</td>\n",
       "      <td>4818.0</td>\n",
       "      <td>...</td>\n",
       "      <td>129357.0</td>\n",
       "      <td>7546961</td>\n",
       "      <td>7544328</td>\n",
       "      <td>7544328</td>\n",
       "      <td>NaN</td>\n",
       "      <td>2527.0</td>\n",
       "      <td>1960.0</td>\n",
       "      <td>236802.0</td>\n",
       "      <td>22152.0</td>\n",
       "      <td>258954.0</td>\n",
       "    </tr>\n",
       "    <tr>\n",
       "      <th>4</th>\n",
       "      <td>2020-05-04</td>\n",
       "      <td>56</td>\n",
       "      <td>1173453</td>\n",
       "      <td>6111921.0</td>\n",
       "      <td>2791.0</td>\n",
       "      <td>50062.0</td>\n",
       "      <td>127397.0</td>\n",
       "      <td>9366.0</td>\n",
       "      <td>4579.0</td>\n",
       "      <td>4848.0</td>\n",
       "      <td>...</td>\n",
       "      <td>127397.0</td>\n",
       "      <td>7288165</td>\n",
       "      <td>7285374</td>\n",
       "      <td>7285374</td>\n",
       "      <td>NaN</td>\n",
       "      <td>912.0</td>\n",
       "      <td>1601.0</td>\n",
       "      <td>210561.0</td>\n",
       "      <td>21447.0</td>\n",
       "      <td>232008.0</td>\n",
       "    </tr>\n",
       "  </tbody>\n",
       "</table>\n",
       "<p>5 rows × 25 columns</p>\n",
       "</div>"
      ],
      "text/plain": [
       "        date  states  positive   negative  pending  hospitalizedCurrently  \\\n",
       "0 2020-05-08      56   1275916  7132872.0   3307.0                47718.0   \n",
       "1 2020-05-07      56   1248137  6857376.0   3171.0                49130.0   \n",
       "2 2020-05-06      56   1220557  6566236.0   2742.0                50227.0   \n",
       "3 2020-05-05      56   1195605  6348723.0   2633.0                50906.0   \n",
       "4 2020-05-04      56   1173453  6111921.0   2791.0                50062.0   \n",
       "\n",
       "   hospitalizedCumulative  inIcuCurrently  inIcuCumulative  \\\n",
       "0                142037.0         11780.0           6294.0   \n",
       "1                135176.0         12137.0           5174.0   \n",
       "2                131477.0          9380.0           4911.0   \n",
       "3                129357.0          9348.0           4794.0   \n",
       "4                127397.0          9366.0           4579.0   \n",
       "\n",
       "   onVentilatorCurrently  ...  hospitalized    total totalTestResults  \\\n",
       "0                 6788.0  ...      142037.0  8412095          8408788   \n",
       "1                 7070.0  ...      135176.0  8108684          8105513   \n",
       "2                 4753.0  ...      131477.0  7789535          7786793   \n",
       "3                 4818.0  ...      129357.0  7546961          7544328   \n",
       "4                 4848.0  ...      127397.0  7288165          7285374   \n",
       "\n",
       "    posNeg  fips  deathIncrease  hospitalizedIncrease  negativeIncrease  \\\n",
       "0  8408788   NaN         1760.0                6861.0          275496.0   \n",
       "1  8105513   NaN         2746.0                3699.0          291140.0   \n",
       "2  7786793   NaN         1949.0                2120.0          217513.0   \n",
       "3  7544328   NaN         2527.0                1960.0          236802.0   \n",
       "4  7285374   NaN          912.0                1601.0          210561.0   \n",
       "\n",
       "   positiveIncrease  totalTestResultsIncrease  \n",
       "0           27779.0                  303275.0  \n",
       "1           27580.0                  318720.0  \n",
       "2           24952.0                  242465.0  \n",
       "3           22152.0                  258954.0  \n",
       "4           21447.0                  232008.0  \n",
       "\n",
       "[5 rows x 25 columns]"
      ]
     },
     "execution_count": 8,
     "metadata": {},
     "output_type": "execute_result"
    }
   ],
   "source": [
    "c_df.head()"
   ]
  },
  {
   "cell_type": "code",
   "execution_count": 9,
   "metadata": {},
   "outputs": [
    {
     "data": {
      "text/html": [
       "<div>\n",
       "<style scoped>\n",
       "    .dataframe tbody tr th:only-of-type {\n",
       "        vertical-align: middle;\n",
       "    }\n",
       "\n",
       "    .dataframe tbody tr th {\n",
       "        vertical-align: top;\n",
       "    }\n",
       "\n",
       "    .dataframe thead th {\n",
       "        text-align: right;\n",
       "    }\n",
       "</style>\n",
       "<table border=\"1\" class=\"dataframe\">\n",
       "  <thead>\n",
       "    <tr style=\"text-align: right;\">\n",
       "      <th></th>\n",
       "      <th>date</th>\n",
       "      <th>states</th>\n",
       "      <th>positive</th>\n",
       "      <th>negative</th>\n",
       "      <th>pending</th>\n",
       "      <th>hospitalizedCurrently</th>\n",
       "      <th>hospitalizedCumulative</th>\n",
       "      <th>inIcuCurrently</th>\n",
       "      <th>inIcuCumulative</th>\n",
       "      <th>onVentilatorCurrently</th>\n",
       "      <th>...</th>\n",
       "      <th>hospitalized</th>\n",
       "      <th>total</th>\n",
       "      <th>totalTestResults</th>\n",
       "      <th>posNeg</th>\n",
       "      <th>fips</th>\n",
       "      <th>deathIncrease</th>\n",
       "      <th>hospitalizedIncrease</th>\n",
       "      <th>negativeIncrease</th>\n",
       "      <th>positiveIncrease</th>\n",
       "      <th>totalTestResultsIncrease</th>\n",
       "    </tr>\n",
       "  </thead>\n",
       "  <tbody>\n",
       "    <tr>\n",
       "      <th>103</th>\n",
       "      <td>2020-01-26</td>\n",
       "      <td>1</td>\n",
       "      <td>1</td>\n",
       "      <td>NaN</td>\n",
       "      <td>NaN</td>\n",
       "      <td>NaN</td>\n",
       "      <td>NaN</td>\n",
       "      <td>NaN</td>\n",
       "      <td>NaN</td>\n",
       "      <td>NaN</td>\n",
       "      <td>...</td>\n",
       "      <td>NaN</td>\n",
       "      <td>1</td>\n",
       "      <td>1</td>\n",
       "      <td>1</td>\n",
       "      <td>NaN</td>\n",
       "      <td>0.0</td>\n",
       "      <td>0.0</td>\n",
       "      <td>0.0</td>\n",
       "      <td>0.0</td>\n",
       "      <td>0.0</td>\n",
       "    </tr>\n",
       "    <tr>\n",
       "      <th>104</th>\n",
       "      <td>2020-01-25</td>\n",
       "      <td>1</td>\n",
       "      <td>1</td>\n",
       "      <td>NaN</td>\n",
       "      <td>NaN</td>\n",
       "      <td>NaN</td>\n",
       "      <td>NaN</td>\n",
       "      <td>NaN</td>\n",
       "      <td>NaN</td>\n",
       "      <td>NaN</td>\n",
       "      <td>...</td>\n",
       "      <td>NaN</td>\n",
       "      <td>1</td>\n",
       "      <td>1</td>\n",
       "      <td>1</td>\n",
       "      <td>NaN</td>\n",
       "      <td>0.0</td>\n",
       "      <td>0.0</td>\n",
       "      <td>0.0</td>\n",
       "      <td>0.0</td>\n",
       "      <td>0.0</td>\n",
       "    </tr>\n",
       "    <tr>\n",
       "      <th>105</th>\n",
       "      <td>2020-01-24</td>\n",
       "      <td>1</td>\n",
       "      <td>1</td>\n",
       "      <td>NaN</td>\n",
       "      <td>NaN</td>\n",
       "      <td>NaN</td>\n",
       "      <td>NaN</td>\n",
       "      <td>NaN</td>\n",
       "      <td>NaN</td>\n",
       "      <td>NaN</td>\n",
       "      <td>...</td>\n",
       "      <td>NaN</td>\n",
       "      <td>1</td>\n",
       "      <td>1</td>\n",
       "      <td>1</td>\n",
       "      <td>NaN</td>\n",
       "      <td>0.0</td>\n",
       "      <td>0.0</td>\n",
       "      <td>0.0</td>\n",
       "      <td>0.0</td>\n",
       "      <td>0.0</td>\n",
       "    </tr>\n",
       "    <tr>\n",
       "      <th>106</th>\n",
       "      <td>2020-01-23</td>\n",
       "      <td>1</td>\n",
       "      <td>1</td>\n",
       "      <td>NaN</td>\n",
       "      <td>NaN</td>\n",
       "      <td>NaN</td>\n",
       "      <td>NaN</td>\n",
       "      <td>NaN</td>\n",
       "      <td>NaN</td>\n",
       "      <td>NaN</td>\n",
       "      <td>...</td>\n",
       "      <td>NaN</td>\n",
       "      <td>1</td>\n",
       "      <td>1</td>\n",
       "      <td>1</td>\n",
       "      <td>NaN</td>\n",
       "      <td>0.0</td>\n",
       "      <td>0.0</td>\n",
       "      <td>0.0</td>\n",
       "      <td>0.0</td>\n",
       "      <td>0.0</td>\n",
       "    </tr>\n",
       "    <tr>\n",
       "      <th>107</th>\n",
       "      <td>2020-01-22</td>\n",
       "      <td>1</td>\n",
       "      <td>1</td>\n",
       "      <td>NaN</td>\n",
       "      <td>NaN</td>\n",
       "      <td>NaN</td>\n",
       "      <td>NaN</td>\n",
       "      <td>NaN</td>\n",
       "      <td>NaN</td>\n",
       "      <td>NaN</td>\n",
       "      <td>...</td>\n",
       "      <td>NaN</td>\n",
       "      <td>1</td>\n",
       "      <td>1</td>\n",
       "      <td>1</td>\n",
       "      <td>NaN</td>\n",
       "      <td>NaN</td>\n",
       "      <td>NaN</td>\n",
       "      <td>NaN</td>\n",
       "      <td>NaN</td>\n",
       "      <td>NaN</td>\n",
       "    </tr>\n",
       "  </tbody>\n",
       "</table>\n",
       "<p>5 rows × 25 columns</p>\n",
       "</div>"
      ],
      "text/plain": [
       "          date  states  positive  negative  pending  hospitalizedCurrently  \\\n",
       "103 2020-01-26       1         1       NaN      NaN                    NaN   \n",
       "104 2020-01-25       1         1       NaN      NaN                    NaN   \n",
       "105 2020-01-24       1         1       NaN      NaN                    NaN   \n",
       "106 2020-01-23       1         1       NaN      NaN                    NaN   \n",
       "107 2020-01-22       1         1       NaN      NaN                    NaN   \n",
       "\n",
       "     hospitalizedCumulative  inIcuCurrently  inIcuCumulative  \\\n",
       "103                     NaN             NaN              NaN   \n",
       "104                     NaN             NaN              NaN   \n",
       "105                     NaN             NaN              NaN   \n",
       "106                     NaN             NaN              NaN   \n",
       "107                     NaN             NaN              NaN   \n",
       "\n",
       "     onVentilatorCurrently  ...  hospitalized  total totalTestResults posNeg  \\\n",
       "103                    NaN  ...           NaN      1                1      1   \n",
       "104                    NaN  ...           NaN      1                1      1   \n",
       "105                    NaN  ...           NaN      1                1      1   \n",
       "106                    NaN  ...           NaN      1                1      1   \n",
       "107                    NaN  ...           NaN      1                1      1   \n",
       "\n",
       "     fips  deathIncrease  hospitalizedIncrease  negativeIncrease  \\\n",
       "103   NaN            0.0                   0.0               0.0   \n",
       "104   NaN            0.0                   0.0               0.0   \n",
       "105   NaN            0.0                   0.0               0.0   \n",
       "106   NaN            0.0                   0.0               0.0   \n",
       "107   NaN            NaN                   NaN               NaN   \n",
       "\n",
       "     positiveIncrease  totalTestResultsIncrease  \n",
       "103               0.0                       0.0  \n",
       "104               0.0                       0.0  \n",
       "105               0.0                       0.0  \n",
       "106               0.0                       0.0  \n",
       "107               NaN                       NaN  \n",
       "\n",
       "[5 rows x 25 columns]"
      ]
     },
     "execution_count": 9,
     "metadata": {},
     "output_type": "execute_result"
    }
   ],
   "source": [
    "c_df.tail()"
   ]
  },
  {
   "cell_type": "code",
   "execution_count": 10,
   "metadata": {},
   "outputs": [
    {
     "data": {
      "text/plain": [
       "Index(['date', 'states', 'positive', 'negative', 'pending',\n",
       "       'hospitalizedCurrently', 'hospitalizedCumulative', 'inIcuCurrently',\n",
       "       'inIcuCumulative', 'onVentilatorCurrently', 'onVentilatorCumulative',\n",
       "       'recovered', 'hash', 'dateChecked', 'death', 'hospitalized', 'total',\n",
       "       'totalTestResults', 'posNeg', 'fips', 'deathIncrease',\n",
       "       'hospitalizedIncrease', 'negativeIncrease', 'positiveIncrease',\n",
       "       'totalTestResultsIncrease'],\n",
       "      dtype='object')"
      ]
     },
     "execution_count": 10,
     "metadata": {},
     "output_type": "execute_result"
    }
   ],
   "source": [
    "c_df.columns"
   ]
  },
  {
   "cell_type": "code",
   "execution_count": 11,
   "metadata": {},
   "outputs": [],
   "source": [
    "#c_df['date'] = pd.to_datetime(c_df['date'])   \n",
    "#c_df.set_index('date',inplace=True)"
   ]
  },
  {
   "cell_type": "code",
   "execution_count": 12,
   "metadata": {},
   "outputs": [],
   "source": [
    "#new_df = c_df.drop(['states','negative', 'pending','hospitalizedCurrently','hospitalizedCumulative','inIcuCurrently','inIcuCumulative','onVentilatorCurrently','onVentilatorCumulative',\n",
    "       #'recovered','hash','dateChecked','death','hospitalized','total',\n",
    "       #'totalTestResults','posNeg','fips','deathIncrease',\n",
    "       #'hospitalizedIncrease','negativeIncrease','positiveIncrease',\n",
    "       #'totalTestResultsIncrease'], axis=1)"
   ]
  },
  {
   "cell_type": "code",
   "execution_count": 13,
   "metadata": {},
   "outputs": [],
   "source": [
    "#new_df.head()"
   ]
  },
  {
   "cell_type": "code",
   "execution_count": 14,
   "metadata": {},
   "outputs": [],
   "source": [
    "\n",
    "#new_df['date'] = pd.to_datetime(new_df['date'])\n",
    "#new_df.set_index('date',inplace=True)\n",
    "#new_df.set_index('date', inplace=True, drop=False)\n",
    "#new_df = new_df.set_index(pd.DatetimeIndex(new_df['date']))\n",
    "#formatted_df = new_df[\"date\"].dt.strftime(\"%y/%m/%d\")\n",
    "#c_df['date'] = pd.to_datetime(c_df['date'])\n",
    "#c_df = c_df.set_index('date')\n",
    "#new_df = c_df[['date','positive']]\n"
   ]
  },
  {
   "cell_type": "code",
   "execution_count": 15,
   "metadata": {},
   "outputs": [],
   "source": [
    "#new_df.plot.line(rot=0,title='COVID Cases', figsize=(15,10), fontsize=12)\n",
    "#c_df['date'] = pd.to_datetime(c_df.date)\n",
    "#c_df.set_index('date', inplace=True)"
   ]
  },
  {
   "cell_type": "code",
   "execution_count": 16,
   "metadata": {},
   "outputs": [
    {
     "data": {
      "text/plain": [
       "Index(['date', 'states', 'positive', 'negative', 'pending',\n",
       "       'hospitalizedCurrently', 'hospitalizedCumulative', 'inIcuCurrently',\n",
       "       'inIcuCumulative', 'onVentilatorCurrently', 'onVentilatorCumulative',\n",
       "       'recovered', 'hash', 'dateChecked', 'death', 'hospitalized', 'total',\n",
       "       'totalTestResults', 'posNeg', 'fips', 'deathIncrease',\n",
       "       'hospitalizedIncrease', 'negativeIncrease', 'positiveIncrease',\n",
       "       'totalTestResultsIncrease'],\n",
       "      dtype='object')"
      ]
     },
     "execution_count": 16,
     "metadata": {},
     "output_type": "execute_result"
    }
   ],
   "source": [
    "c_df.columns"
   ]
  },
  {
   "cell_type": "code",
   "execution_count": 17,
   "metadata": {},
   "outputs": [
    {
     "data": {
      "image/png": "[encoded data removed]",
      "text/plain": [
       "<Figure size 432x288 with 1 Axes>"
      ]
     },
     "metadata": {
      "needs_background": "light"
     },
     "output_type": "display_data"
    }
   ],
   "source": [
    "x = plts.scatter(c_df['date'], c_df['positive'])"
   ]
  },
  {
   "cell_type": "code",
   "execution_count": 19,
   "metadata": {},
   "outputs": [
    {
     "data": {
      "text/plain": [
       "<matplotlib.axes._subplots.AxesSubplot at 0x11a842b50>"
      ]
     },
     "execution_count": 19,
     "metadata": {},
     "output_type": "execute_result"
    },
    {
     "data": {
      "image/png": "[encoded data removed]",
      "text/plain": [
       "<Figure size 432x288 with 1 Axes>"
      ]
     },
     "metadata": {
      "needs_background": "light"
     },
     "output_type": "display_data"
    }
   ],
   "source": [
    "c_df.plot(x='date',y='positive') "
   ]
  },
  {
   "cell_type": "code",
   "execution_count": 120,
   "metadata": {},
   "outputs": [
    {
     "name": "stderr",
     "output_type": "stream",
     "text": [
      "WARNING:param.CurvePlot55654: title_format is deprecated. Please use title instead\n",
      "WARNING:param.CurvePlot55654: title_format is deprecated. Please use title instead\n"
     ]
    },
    {
     "data": {},
     "metadata": {},
     "output_type": "display_data"
    },
    {
     "data": {
      "application/vnd.holoviews_exec.v0+json": "",
      "text/html": [
       "<div id='26454'>\n",
       "\n",
       "\n",
       "\n",
       "\n",
       "\n",
       "  <div class=\"bk-root\" id=\"475b28ba-f196-4abf-86c0-e7de01a44c82\" data-root-id=\"26454\"></div>\n",
       "</div>\n",
       "<script type=\"application/javascript\">(function(root) {\n",
       "  function embed_document(root) {\n",
       "  var docs_json = {\"072e201a-dba1-45bc-906e-bdb384ddda3c\":{\"roots\":{\"references\":[{\"attributes\":{\"end\":1588896000000.0,\"reset_end\":1588896000000.0,\"reset_start\":1579651200000.0,\"start\":1579651200000.0,\"tags\":[[[\"date\",\"date\",null]]]},\"id\":\"26456\",\"type\":\"Range1d\"},{\"attributes\":{},\"id\":\"26508\",\"type\":\"UnionRenderers\"},{\"attributes\":{\"callback\":null,\"formatters\":{\"@{date}\":\"datetime\"},\"renderers\":[{\"id\":\"26495\"}],\"tags\":[\"hv_created\"],\"tooltips\":[[\"date\",\"@{date}{%F %T}\"],[\"positive\",\"@{positive}\"]]},\"id\":\"26458\",\"type\":\"HoverTool\"},{\"attributes\":{\"months\":[0,6]},\"id\":\"26519\",\"type\":\"MonthsTicker\"},{\"attributes\":{\"mantissas\":[1,2,5],\"max_interval\":500.0,\"num_minor_ticks\":0},\"id\":\"26509\",\"type\":\"AdaptiveTicker\"},{\"attributes\":{\"months\":[0,4,8]},\"id\":\"26518\",\"type\":\"MonthsTicker\"},{\"attributes\":{\"data_source\":{\"id\":\"26489\"},\"glyph\":{\"id\":\"26492\"},\"hover_glyph\":null,\"muted_glyph\":{\"id\":\"26494\"},\"nonselection_glyph\":{\"id\":\"26493\"},\"selection_glyph\":null,\"view\":{\"id\":\"26496\"}},\"id\":\"26495\",\"type\":\"GlyphRenderer\"},{\"attributes\":{\"num_minor_ticks\":5,\"tickers\":[{\"id\":\"26509\"},{\"id\":\"26510\"},{\"id\":\"26511\"},{\"id\":\"26512\"},{\"id\":\"26513\"},{\"id\":\"26514\"},{\"id\":\"26515\"},{\"id\":\"26516\"},{\"id\":\"26517\"},{\"id\":\"26518\"},{\"id\":\"26519\"},{\"id\":\"26520\"}]},\"id\":\"26469\",\"type\":\"DatetimeTicker\"},{\"attributes\":{},\"id\":\"26466\",\"type\":\"LinearScale\"},{\"attributes\":{\"source\":{\"id\":\"26489\"}},\"id\":\"26496\",\"type\":\"CDSView\"},{\"attributes\":{\"active_drag\":\"auto\",\"active_inspect\":\"auto\",\"active_multi\":null,\"active_scroll\":\"auto\",\"active_tap\":\"auto\",\"tools\":[{\"id\":\"26458\"},{\"id\":\"26476\"},{\"id\":\"26477\"},{\"id\":\"26478\"},{\"id\":\"26479\"},{\"id\":\"26480\"}]},\"id\":\"26482\",\"type\":\"Toolbar\"},{\"attributes\":{\"base\":60,\"mantissas\":[1,2,5,10,15,20,30],\"max_interval\":1800000.0,\"min_interval\":1000.0,\"num_minor_ticks\":0},\"id\":\"26510\",\"type\":\"AdaptiveTicker\"},{\"attributes\":{\"margin\":[5,5,5,5],\"name\":\"HSpacer55630\",\"sizing_mode\":\"stretch_width\"},\"id\":\"26521\",\"type\":\"Spacer\"},{\"attributes\":{},\"id\":\"26473\",\"type\":\"BasicTicker\"},{\"attributes\":{\"line_alpha\":0.2,\"line_color\":\"#1f77b3\",\"line_width\":2,\"x\":{\"field\":\"date\"},\"y\":{\"field\":\"positive\"}},\"id\":\"26494\",\"type\":\"Line\"},{\"attributes\":{\"children\":[{\"id\":\"26455\"},{\"id\":\"26459\"},{\"id\":\"26521\"}],\"margin\":[0,0,0,0],\"name\":\"Row55625\",\"tags\":[\"embedded\"]},\"id\":\"26454\",\"type\":\"Row\"},{\"attributes\":{\"axis_label\":\"date\",\"bounds\":\"auto\",\"formatter\":{\"id\":\"26498\"},\"major_label_orientation\":\"horizontal\",\"ticker\":{\"id\":\"26469\"}},\"id\":\"26468\",\"type\":\"DatetimeAxis\"},{\"attributes\":{\"axis\":{\"id\":\"26468\"},\"grid_line_color\":null,\"ticker\":null},\"id\":\"26471\",\"type\":\"Grid\"},{\"attributes\":{\"align\":null,\"below\":[{\"id\":\"26468\"}],\"center\":[{\"id\":\"26471\"},{\"id\":\"26475\"}],\"left\":[{\"id\":\"26472\"}],\"margin\":null,\"min_border_bottom\":10,\"min_border_left\":10,\"min_border_right\":10,\"min_border_top\":10,\"plot_height\":300,\"plot_width\":700,\"renderers\":[{\"id\":\"26495\"}],\"sizing_mode\":\"fixed\",\"title\":{\"id\":\"26460\"},\"toolbar\":{\"id\":\"26482\"},\"x_range\":{\"id\":\"26456\"},\"x_scale\":{\"id\":\"26464\"},\"y_range\":{\"id\":\"26457\"},\"y_scale\":{\"id\":\"26466\"}},\"id\":\"26459\",\"subtype\":\"Figure\",\"type\":\"Plot\"},{\"attributes\":{\"margin\":[5,5,5,5],\"name\":\"HSpacer55629\",\"sizing_mode\":\"stretch_width\"},\"id\":\"26455\",\"type\":\"Spacer\"},{\"attributes\":{\"days\":[1,4,7,10,13,16,19,22,25,28]},\"id\":\"26513\",\"type\":\"DaysTicker\"},{\"attributes\":{\"months\":[0,2,4,6,8,10]},\"id\":\"26517\",\"type\":\"MonthsTicker\"},{\"attributes\":{\"axis_label\":\"positive\",\"bounds\":\"auto\",\"formatter\":{\"id\":\"26500\"},\"major_label_orientation\":\"horizontal\",\"ticker\":{\"id\":\"26473\"}},\"id\":\"26472\",\"type\":\"LinearAxis\"},{\"attributes\":{},\"id\":\"26520\",\"type\":\"YearsTicker\"},{\"attributes\":{},\"id\":\"26480\",\"type\":\"ResetTool\"},{\"attributes\":{\"end\":1403507.5,\"reset_end\":1403507.5,\"reset_start\":-127590.5,\"start\":-127590.5,\"tags\":[[[\"positive\",\"positive\",null]]]},\"id\":\"26457\",\"type\":\"Range1d\"},{\"attributes\":{},\"id\":\"26500\",\"type\":\"BasicTickFormatter\"},{\"attributes\":{},\"id\":\"26498\",\"type\":\"DatetimeTickFormatter\"},{\"attributes\":{\"base\":24,\"mantissas\":[1,2,4,6,8,12],\"max_interval\":43200000.0,\"min_interval\":3600000.0,\"num_minor_ticks\":0},\"id\":\"26511\",\"type\":\"AdaptiveTicker\"},{\"attributes\":{\"text\":\"COVID-19 Infections in the U.S\",\"text_color\":{\"value\":\"black\"},\"text_font_size\":{\"value\":\"12pt\"}},\"id\":\"26460\",\"type\":\"Title\"},{\"attributes\":{},\"id\":\"26476\",\"type\":\"SaveTool\"},{\"attributes\":{\"line_alpha\":0.1,\"line_color\":\"#1f77b3\",\"line_width\":2,\"x\":{\"field\":\"date\"},\"y\":{\"field\":\"positive\"}},\"id\":\"26493\",\"type\":\"Line\"},{\"attributes\":{\"days\":[1,15]},\"id\":\"26515\",\"type\":\"DaysTicker\"},{\"attributes\":{},\"id\":\"26478\",\"type\":\"WheelZoomTool\"},{\"attributes\":{\"axis\":{\"id\":\"26472\"},\"dimension\":1,\"grid_line_color\":null,\"ticker\":null},\"id\":\"26475\",\"type\":\"Grid\"},{\"attributes\":{\"data\":{\"date\":{\"__ndarray__\":\"AABAx6j8dkIAAAAt+/x2QgAAwJJN/XZCAACA+J/9dkIAAEBe8v12QgAAAMRE/nZCAADAKZf+dkIAAICP6f52QgAAQPU7/3ZCAAAAW47/dkIAAMDA4P92QgAAgCYzAHdCAABAjIUAd0IAAADy1wB3QgAAwFcqAXdCAACAvXwBd0IAAEAjzwF3QgAAAIkhAndCAADA7nMCd0IAAIBUxgJ3QgAAQLoYA3dCAAAAIGsDd0IAAMCFvQN3QgAAgOsPBHdCAABAUWIEd0IAAAC3tAR3QgAAwBwHBXdCAACAglkFd0IAAEDoqwV3QgAAAE7+BXdCAADAs1AGd0IAAIAZowZ3QgAAQH/1BndCAAAA5UcHd0IAAMBKmgd3QgAAgLDsB3dCAABAFj8Id0IAAAB8kQh3QgAAwOHjCHdCAACARzYJd0IAAECtiAl3QgAAABPbCXdCAADAeC0Kd0IAAIDefwp3QgAAQETSCndCAAAAqiQLd0IAAMAPdwt3QgAAgHXJC3dCAABA2xsMd0IAAABBbgx3QgAAwKbADHdCAACADBMNd0IAAEByZQ13QgAAANi3DXdCAADAPQoOd0IAAICjXA53QgAAQAmvDndCAAAAbwEPd0IAAMDUUw93QgAAgDqmD3dCAABAoPgPd0IAAAAGSxB3QgAAwGudEHdCAACA0e8Qd0IAAEA3QhF3QgAAAJ2UEXdCAADAAucRd0IAAIBoORJ3QgAAQM6LEndCAAAANN4Sd0IAAMCZMBN3QgAAgP+CE3dCAABAZdUTd0IAAADLJxR3QgAAwDB6FHdCAACAlswUd0IAAED8HhV3QgAAAGJxFXdCAADAx8MVd0IAAIAtFhZ3QgAAQJNoFndCAAAA+boWd0IAAMBeDRd3QgAAgMRfF3dCAABAKrIXd0IAAACQBBh3QgAAwPVWGHdCAACAW6kYd0IAAEDB+xh3QgAAACdOGXdCAADAjKAZd0IAAIDy8hl3QgAAQFhFGndCAAAAvpcad0IAAMAj6hp3QgAAgIk8G3dCAABA744bd0IAAABV4Rt3QgAAwLozHHdCAACAIIYcd0IAAECG2Bx3QgAAAOwqHXdCAADAUX0dd0IAAIC3zx13QgAAQB0iHndCAAAAg3Qed0IAAMDoxh53QgAAgE4ZH3dC\",\"dtype\":\"float64\",\"shape\":[108]},\"positive\":[1,1,1,1,1,1,1,1,1,1,1,1,1,1,1,1,2,2,2,2,2,2,2,2,2,2,2,2,2,2,2,2,2,2,2,2,2,9,18,40,53,94,207,275,387,538,721,1013,1280,1672,2142,3004,3741,4842,6131,8254,10865,15063,20834,27367,36334,47013,57179,69473,86789,105462,124815,144297,165521,189998,215177,243235,275234,308752,334718,363465,393874,424045,458260,492848,522750,551906,576875,602795,633112,664129,696010,724047,751646,776830,802772,831374,863123,897319,933310,960343,981134,1006137,1033157,1062503,1095681,1125719,1152006,1173453,1195605,1220557,1248137,1275916]},\"selected\":{\"id\":\"26490\"},\"selection_policy\":{\"id\":\"26508\"}},\"id\":\"26489\",\"type\":\"ColumnDataSource\"},{\"attributes\":{},\"id\":\"26477\",\"type\":\"PanTool\"},{\"attributes\":{},\"id\":\"26490\",\"type\":\"Selection\"},{\"attributes\":{\"months\":[0,1,2,3,4,5,6,7,8,9,10,11]},\"id\":\"26516\",\"type\":\"MonthsTicker\"},{\"attributes\":{\"line_color\":\"#1f77b3\",\"line_width\":2,\"x\":{\"field\":\"date\"},\"y\":{\"field\":\"positive\"}},\"id\":\"26492\",\"type\":\"Line\"},{\"attributes\":{\"bottom_units\":\"screen\",\"fill_alpha\":0.5,\"fill_color\":\"lightgrey\",\"left_units\":\"screen\",\"level\":\"overlay\",\"line_alpha\":1.0,\"line_color\":\"black\",\"line_dash\":[4,4],\"line_width\":2,\"render_mode\":\"css\",\"right_units\":\"screen\",\"top_units\":\"screen\"},\"id\":\"26481\",\"type\":\"BoxAnnotation\"},{\"attributes\":{\"days\":[1,8,15,22]},\"id\":\"26514\",\"type\":\"DaysTicker\"},{\"attributes\":{},\"id\":\"26464\",\"type\":\"LinearScale\"},{\"attributes\":{\"days\":[1,2,3,4,5,6,7,8,9,10,11,12,13,14,15,16,17,18,19,20,21,22,23,24,25,26,27,28,29,30,31]},\"id\":\"26512\",\"type\":\"DaysTicker\"},{\"attributes\":{\"overlay\":{\"id\":\"26481\"}},\"id\":\"26479\",\"type\":\"BoxZoomTool\"}],\"root_ids\":[\"26454\"]},\"title\":\"Bokeh Application\",\"version\":\"2.0.2\"}};\n",
       "  var render_items = [{\"docid\":\"072e201a-dba1-45bc-906e-bdb384ddda3c\",\"root_ids\":[\"26454\"],\"roots\":{\"26454\":\"475b28ba-f196-4abf-86c0-e7de01a44c82\"}}];\n",
       "  root.Bokeh.embed.embed_items_notebook(docs_json, render_items);\n",
       "  }\n",
       "if (root.Bokeh !== undefined) {\n",
       "    embed_document(root);\n",
       "  } else {\n",
       "    var attempts = 0;\n",
       "    var timer = setInterval(function(root) {\n",
       "      if (root.Bokeh !== undefined) {\n",
       "        clearInterval(timer);\n",
       "        embed_document(root);\n",
       "      } else if (document.readyState == \"complete\") {\n",
       "        attempts++;\n",
       "        if (attempts > 100) {\n",
       "          clearInterval(timer);\n",
       "          console.log(\"Bokeh: ERROR: Unable to run BokehJS code because BokehJS library is missing\");\n",
       "        }\n",
       "      }\n",
       "    }, 10, root)\n",
       "  }\n",
       "})(window);</script>"
      ],
      "text/plain": [
       ":Curve   [date]   (positive)"
      ]
     },
     "execution_count": 120,
     "metadata": {
      "application/vnd.holoviews_exec.v0+json": {
       "id": "26454"
      }
     },
     "output_type": "execute_result"
    }
   ],
   "source": [
    "c_df.hvplot(x='date',y='positive', title='COVID-19 Infections in the U.S')"
   ]
  },
  {
   "cell_type": "code",
   "execution_count": 35,
   "metadata": {},
   "outputs": [
    {
     "data": {},
     "metadata": {},
     "output_type": "display_data"
    },
    {
     "data": {},
     "metadata": {},
     "output_type": "display_data"
    },
    {
     "data": {
      "application/vnd.holoviews_exec.v0+json": "",
      "text/html": [
       "<div id='8293'>\n",
       "\n",
       "\n",
       "\n",
       "\n",
       "\n",
       "  <div class=\"bk-root\" id=\"7278f605-ce8b-46b2-9095-5d1526319f18\" data-root-id=\"8293\"></div>\n",
       "</div>\n",
       "<script type=\"application/javascript\">(function(root) {\n",
       "  function embed_document(root) {\n",
       "  var docs_json = {\"5ce74fcf-6eb6-45f7-8ca5-e9dc54b47979\":{\"roots\":{\"references\":[{\"attributes\":{\"end\":536371200000.0,\"reset_end\":536371200000.0,\"reset_start\":507513600000.0,\"start\":507513600000.0,\"tags\":[[[\"Date\",\"Date\",null]]]},\"id\":\"8294\",\"type\":\"Range1d\"},{\"attributes\":{\"days\":[1,8,15,22]},\"id\":\"8356\",\"type\":\"DaysTicker\"},{\"attributes\":{\"line_color\":\"#1f77b3\",\"line_width\":2,\"x\":{\"field\":\"Date\"},\"y\":{\"field\":\"Value\"}},\"id\":\"8330\",\"type\":\"Line\"},{\"attributes\":{},\"id\":\"8350\",\"type\":\"UnionRenderers\"},{\"attributes\":{\"align\":null,\"below\":[{\"id\":\"8306\"}],\"center\":[{\"id\":\"8309\"},{\"id\":\"8313\"}],\"left\":[{\"id\":\"8310\"}],\"margin\":null,\"min_border_bottom\":10,\"min_border_left\":10,\"min_border_right\":10,\"min_border_top\":10,\"plot_height\":300,\"plot_width\":700,\"renderers\":[{\"id\":\"8333\"}],\"sizing_mode\":\"fixed\",\"title\":{\"id\":\"8298\"},\"toolbar\":{\"id\":\"8320\"},\"x_range\":{\"id\":\"8294\"},\"x_scale\":{\"id\":\"8302\"},\"y_range\":{\"id\":\"8295\"},\"y_scale\":{\"id\":\"8304\"}},\"id\":\"8297\",\"subtype\":\"Figure\",\"type\":\"Plot\"},{\"attributes\":{\"months\":[0,4,8]},\"id\":\"8360\",\"type\":\"MonthsTicker\"},{\"attributes\":{},\"id\":\"8318\",\"type\":\"ResetTool\"},{\"attributes\":{},\"id\":\"8338\",\"type\":\"BasicTickFormatter\"},{\"attributes\":{\"children\":[{\"id\":\"8364\"},{\"id\":\"8365\"},{\"id\":\"8367\"}],\"margin\":[0,0,0,0],\"name\":\"Row25136\"},\"id\":\"8363\",\"type\":\"Row\"},{\"attributes\":{},\"id\":\"8311\",\"type\":\"BasicTicker\"},{\"attributes\":{\"base\":60,\"mantissas\":[1,2,5,10,15,20,30],\"max_interval\":1800000.0,\"min_interval\":1000.0,\"num_minor_ticks\":0},\"id\":\"8352\",\"type\":\"AdaptiveTicker\"},{\"attributes\":{},\"id\":\"8304\",\"type\":\"LinearScale\"},{\"attributes\":{\"months\":[0,2,4,6,8,10]},\"id\":\"8359\",\"type\":\"MonthsTicker\"},{\"attributes\":{\"children\":[{\"id\":\"8366\"}],\"css_classes\":[\"widget-box\"],\"margin\":[5,5,5,5],\"name\":\"WidgetBox25121\"},\"id\":\"8365\",\"type\":\"Column\"},{\"attributes\":{\"line_alpha\":0.1,\"line_color\":\"#1f77b3\",\"line_width\":2,\"x\":{\"field\":\"Date\"},\"y\":{\"field\":\"Value\"}},\"id\":\"8331\",\"type\":\"Line\"},{\"attributes\":{\"data\":{\"Date\":{\"__ndarray__\":\"AAAAvoqKXUIAAABCl65dQgAAAIuA1l1CAAAAPSD9XUIAAACGCSVeQgAAADipS15CAAAAgZJzXkIAAADKe5teQgAAAHwbwl5CAAAAxQTqXkIAAAB3pBBfQgAAAMCNOF9C\",\"dtype\":\"float64\",\"shape\":[12]},\"Value\":{\"__ndarray__\":\"MzMzMzPzMkD2KFyPwnUqQAAAAAAAgCRAw/UoXI/CKkCamZmZmZksQJqZmZmZmSlA9ihcj8J1JkBcj8L1KNwvQGZmZmZmZi1AAAAAAACALkAAAAAAAAAuQK5H4XoU7jFA\",\"dtype\":\"float64\",\"shape\":[12]}},\"selected\":{\"id\":\"8328\"},\"selection_policy\":{\"id\":\"8350\"}},\"id\":\"8327\",\"type\":\"ColumnDataSource\"},{\"attributes\":{},\"id\":\"8316\",\"type\":\"WheelZoomTool\"},{\"attributes\":{\"days\":[1,2,3,4,5,6,7,8,9,10,11,12,13,14,15,16,17,18,19,20,21,22,23,24,25,26,27,28,29,30,31]},\"id\":\"8354\",\"type\":\"DaysTicker\"},{\"attributes\":{\"days\":[1,4,7,10,13,16,19,22,25,28]},\"id\":\"8355\",\"type\":\"DaysTicker\"},{\"attributes\":{},\"id\":\"8314\",\"type\":\"SaveTool\"},{\"attributes\":{\"margin\":[5,5,5,5],\"name\":\"HSpacer25135\",\"sizing_mode\":\"stretch_width\"},\"id\":\"8367\",\"type\":\"Spacer\"},{\"attributes\":{},\"id\":\"8315\",\"type\":\"PanTool\"},{\"attributes\":{\"text\":\"index.year: 1986\",\"text_color\":{\"value\":\"black\"},\"text_font_size\":{\"value\":\"12pt\"}},\"id\":\"8298\",\"type\":\"Title\"},{\"attributes\":{\"axis\":{\"id\":\"8310\"},\"dimension\":1,\"grid_line_color\":null,\"ticker\":null},\"id\":\"8313\",\"type\":\"Grid\"},{\"attributes\":{\"line_alpha\":0.2,\"line_color\":\"#1f77b3\",\"line_width\":2,\"x\":{\"field\":\"Date\"},\"y\":{\"field\":\"Value\"}},\"id\":\"8332\",\"type\":\"Line\"},{\"attributes\":{\"days\":[1,15]},\"id\":\"8357\",\"type\":\"DaysTicker\"},{\"attributes\":{},\"id\":\"8328\",\"type\":\"Selection\"},{\"attributes\":{\"axis_label\":\"Value\",\"bounds\":\"auto\",\"formatter\":{\"id\":\"8338\"},\"major_label_orientation\":\"horizontal\",\"ticker\":{\"id\":\"8311\"}},\"id\":\"8310\",\"type\":\"LinearAxis\"},{\"attributes\":{\"margin\":[5,5,5,5],\"name\":\"HSpacer25134\",\"sizing_mode\":\"stretch_width\"},\"id\":\"8364\",\"type\":\"Spacer\"},{\"attributes\":{\"children\":[{\"id\":\"8297\"},{\"id\":\"8363\"}],\"margin\":[0,0,0,0],\"name\":\"Column25137\"},\"id\":\"8293\",\"type\":\"Column\"},{\"attributes\":{},\"id\":\"8336\",\"type\":\"DatetimeTickFormatter\"},{\"attributes\":{\"source\":{\"id\":\"8327\"}},\"id\":\"8334\",\"type\":\"CDSView\"},{\"attributes\":{\"months\":[0,1,2,3,4,5,6,7,8,9,10,11]},\"id\":\"8358\",\"type\":\"MonthsTicker\"},{\"attributes\":{\"num_minor_ticks\":5,\"tickers\":[{\"id\":\"8351\"},{\"id\":\"8352\"},{\"id\":\"8353\"},{\"id\":\"8354\"},{\"id\":\"8355\"},{\"id\":\"8356\"},{\"id\":\"8357\"},{\"id\":\"8358\"},{\"id\":\"8359\"},{\"id\":\"8360\"},{\"id\":\"8361\"},{\"id\":\"8362\"}]},\"id\":\"8307\",\"type\":\"DatetimeTicker\"},{\"attributes\":{\"end\":19.82,\"reset_end\":19.82,\"reset_start\":9.38,\"start\":9.38,\"tags\":[[[\"Value\",\"Value\",null]]]},\"id\":\"8295\",\"type\":\"Range1d\"},{\"attributes\":{\"bottom_units\":\"screen\",\"fill_alpha\":0.5,\"fill_color\":\"lightgrey\",\"left_units\":\"screen\",\"level\":\"overlay\",\"line_alpha\":1.0,\"line_color\":\"black\",\"line_dash\":[4,4],\"line_width\":2,\"render_mode\":\"css\",\"right_units\":\"screen\",\"top_units\":\"screen\"},\"id\":\"8319\",\"type\":\"BoxAnnotation\"},{\"attributes\":{\"axis_label\":\"Date\",\"bounds\":\"auto\",\"formatter\":{\"id\":\"8336\"},\"major_label_orientation\":\"horizontal\",\"ticker\":{\"id\":\"8307\"}},\"id\":\"8306\",\"type\":\"DatetimeAxis\"},{\"attributes\":{\"client_comm_id\":\"a3f67ce0eb604fb09b3ba6a98dbf7f3e\",\"comm_id\":\"06196911b5f94bcf8234d0b0c14a3931\",\"plot_id\":\"8293\"},\"id\":\"8428\",\"type\":\"panel.models.comm_manager.CommManager\"},{\"attributes\":{\"months\":[0,6]},\"id\":\"8361\",\"type\":\"MonthsTicker\"},{\"attributes\":{\"data_source\":{\"id\":\"8327\"},\"glyph\":{\"id\":\"8330\"},\"hover_glyph\":null,\"muted_glyph\":{\"id\":\"8332\"},\"nonselection_glyph\":{\"id\":\"8331\"},\"selection_glyph\":null,\"view\":{\"id\":\"8334\"}},\"id\":\"8333\",\"type\":\"GlyphRenderer\"},{\"attributes\":{},\"id\":\"8362\",\"type\":\"YearsTicker\"},{\"attributes\":{\"callback\":null,\"formatters\":{\"@{Date}\":\"datetime\"},\"renderers\":[{\"id\":\"8333\"}],\"tags\":[\"hv_created\"],\"tooltips\":[[\"Date\",\"@{Date}\"],[\"Value\",\"@{Value}\"]]},\"id\":\"8296\",\"type\":\"HoverTool\"},{\"attributes\":{\"overlay\":{\"id\":\"8319\"}},\"id\":\"8317\",\"type\":\"BoxZoomTool\"},{\"attributes\":{\"end\":34,\"height\":80,\"margin\":[5,10,5,10],\"min_height\":80,\"min_width\":550,\"start\":0,\"width\":550},\"id\":\"8366\",\"type\":\"panel.models.widgets.Player\"},{\"attributes\":{\"axis\":{\"id\":\"8306\"},\"grid_line_color\":null,\"ticker\":null},\"id\":\"8309\",\"type\":\"Grid\"},{\"attributes\":{\"active_drag\":\"auto\",\"active_inspect\":\"auto\",\"active_multi\":null,\"active_scroll\":\"auto\",\"active_tap\":\"auto\",\"tools\":[{\"id\":\"8296\"},{\"id\":\"8314\"},{\"id\":\"8315\"},{\"id\":\"8316\"},{\"id\":\"8317\"},{\"id\":\"8318\"}]},\"id\":\"8320\",\"type\":\"Toolbar\"},{\"attributes\":{\"base\":24,\"mantissas\":[1,2,4,6,8,12],\"max_interval\":43200000.0,\"min_interval\":3600000.0,\"num_minor_ticks\":0},\"id\":\"8353\",\"type\":\"AdaptiveTicker\"},{\"attributes\":{},\"id\":\"8302\",\"type\":\"LinearScale\"},{\"attributes\":{\"mantissas\":[1,2,5],\"max_interval\":500.0,\"num_minor_ticks\":0},\"id\":\"8351\",\"type\":\"AdaptiveTicker\"}],\"root_ids\":[\"8293\",\"8428\"]},\"title\":\"Bokeh Application\",\"version\":\"2.0.2\"}};\n",
       "  var render_items = [{\"docid\":\"5ce74fcf-6eb6-45f7-8ca5-e9dc54b47979\",\"root_ids\":[\"8293\"],\"roots\":{\"8293\":\"7278f605-ce8b-46b2-9095-5d1526319f18\"}}];\n",
       "  root.Bokeh.embed.embed_items_notebook(docs_json, render_items);\n",
       "  }\n",
       "if (root.Bokeh !== undefined) {\n",
       "    embed_document(root);\n",
       "  } else {\n",
       "    var attempts = 0;\n",
       "    var timer = setInterval(function(root) {\n",
       "      if (root.Bokeh !== undefined) {\n",
       "        clearInterval(timer);\n",
       "        embed_document(root);\n",
       "      } else if (document.readyState == \"complete\") {\n",
       "        attempts++;\n",
       "        if (attempts > 100) {\n",
       "          clearInterval(timer);\n",
       "          console.log(\"Bokeh: ERROR: Unable to run BokehJS code because BokehJS library is missing\");\n",
       "        }\n",
       "      }\n",
       "    }, 10, root)\n",
       "  }\n",
       "})(window);</script>"
      ],
      "text/plain": [
       "Column\n",
       "    [0] HoloViews(DynamicMap, widget_location='bottom', widget_type='scrubber')\n",
       "    [1] Row\n",
       "        [0] HSpacer()\n",
       "        [1] WidgetBox\n",
       "            [0] Player(end=34, width=550)\n",
       "        [2] HSpacer()"
      ]
     },
     "execution_count": 35,
     "metadata": {
      "application/vnd.holoviews_exec.v0+json": {
       "id": "8293"
      }
     },
     "output_type": "execute_result"
    }
   ],
   "source": [
    "mydata.hvplot(groupby=['index.year'], widget_type='scrubber', widget_location='bottom') "
   ]
  },
  {
   "cell_type": "code",
   "execution_count": 53,
   "metadata": {},
   "outputs": [],
   "source": [
    "saudi_df = quandl.get(\"EIA/STEO_COPR_SA_M\")"
   ]
  },
  {
   "cell_type": "code",
   "execution_count": 54,
   "metadata": {},
   "outputs": [
    {
     "data": {
      "text/html": [
       "<div>\n",
       "<style scoped>\n",
       "    .dataframe tbody tr th:only-of-type {\n",
       "        vertical-align: middle;\n",
       "    }\n",
       "\n",
       "    .dataframe tbody tr th {\n",
       "        vertical-align: top;\n",
       "    }\n",
       "\n",
       "    .dataframe thead th {\n",
       "        text-align: right;\n",
       "    }\n",
       "</style>\n",
       "<table border=\"1\" class=\"dataframe\">\n",
       "  <thead>\n",
       "    <tr style=\"text-align: right;\">\n",
       "      <th></th>\n",
       "      <th>Value</th>\n",
       "    </tr>\n",
       "    <tr>\n",
       "      <th>Date</th>\n",
       "      <th></th>\n",
       "    </tr>\n",
       "  </thead>\n",
       "  <tbody>\n",
       "    <tr>\n",
       "      <th>2019-12-31</th>\n",
       "      <td>9.75</td>\n",
       "    </tr>\n",
       "    <tr>\n",
       "      <th>2020-01-31</th>\n",
       "      <td>9.85</td>\n",
       "    </tr>\n",
       "    <tr>\n",
       "      <th>2020-02-29</th>\n",
       "      <td>9.75</td>\n",
       "    </tr>\n",
       "    <tr>\n",
       "      <th>2020-03-31</th>\n",
       "      <td>9.80</td>\n",
       "    </tr>\n",
       "    <tr>\n",
       "      <th>2020-04-30</th>\n",
       "      <td>11.60</td>\n",
       "    </tr>\n",
       "  </tbody>\n",
       "</table>\n",
       "</div>"
      ],
      "text/plain": [
       "            Value\n",
       "Date             \n",
       "2019-12-31   9.75\n",
       "2020-01-31   9.85\n",
       "2020-02-29   9.75\n",
       "2020-03-31   9.80\n",
       "2020-04-30  11.60"
      ]
     },
     "execution_count": 54,
     "metadata": {},
     "output_type": "execute_result"
    }
   ],
   "source": [
    "saudi_df.tail()"
   ]
  },
  {
   "cell_type": "code",
   "execution_count": 55,
   "metadata": {},
   "outputs": [
    {
     "data": {
      "text/html": [
       "<div>\n",
       "<style scoped>\n",
       "    .dataframe tbody tr th:only-of-type {\n",
       "        vertical-align: middle;\n",
       "    }\n",
       "\n",
       "    .dataframe tbody tr th {\n",
       "        vertical-align: top;\n",
       "    }\n",
       "\n",
       "    .dataframe thead th {\n",
       "        text-align: right;\n",
       "    }\n",
       "</style>\n",
       "<table border=\"1\" class=\"dataframe\">\n",
       "  <thead>\n",
       "    <tr style=\"text-align: right;\">\n",
       "      <th></th>\n",
       "      <th>Value</th>\n",
       "    </tr>\n",
       "    <tr>\n",
       "      <th>Date</th>\n",
       "      <th></th>\n",
       "    </tr>\n",
       "  </thead>\n",
       "  <tbody>\n",
       "    <tr>\n",
       "      <th>1994-01-31</th>\n",
       "      <td>8.068335</td>\n",
       "    </tr>\n",
       "    <tr>\n",
       "      <th>1994-02-28</th>\n",
       "      <td>8.060858</td>\n",
       "    </tr>\n",
       "    <tr>\n",
       "      <th>1994-03-31</th>\n",
       "      <td>8.068335</td>\n",
       "    </tr>\n",
       "    <tr>\n",
       "      <th>1994-04-30</th>\n",
       "      <td>8.083288</td>\n",
       "    </tr>\n",
       "    <tr>\n",
       "      <th>1994-05-31</th>\n",
       "      <td>8.063351</td>\n",
       "    </tr>\n",
       "  </tbody>\n",
       "</table>\n",
       "</div>"
      ],
      "text/plain": [
       "               Value\n",
       "Date                \n",
       "1994-01-31  8.068335\n",
       "1994-02-28  8.060858\n",
       "1994-03-31  8.068335\n",
       "1994-04-30  8.083288\n",
       "1994-05-31  8.063351"
      ]
     },
     "execution_count": 55,
     "metadata": {},
     "output_type": "execute_result"
    }
   ],
   "source": [
    "saudi_df.head()"
   ]
  },
  {
   "cell_type": "code",
   "execution_count": 118,
   "metadata": {},
   "outputs": [
    {
     "name": "stderr",
     "output_type": "stream",
     "text": [
      "WARNING:param.CurvePlot55328: title_format is deprecated. Please use title instead\n",
      "WARNING:param.CurvePlot55328: title_format is deprecated. Please use title instead\n"
     ]
    },
    {
     "data": {},
     "metadata": {},
     "output_type": "display_data"
    },
    {
     "data": {
      "application/vnd.holoviews_exec.v0+json": "",
      "text/html": [
       "<div id='26116'>\n",
       "\n",
       "\n",
       "\n",
       "\n",
       "\n",
       "  <div class=\"bk-root\" id=\"86728460-410a-41f2-b82c-93e791043cd8\" data-root-id=\"26116\"></div>\n",
       "</div>\n",
       "<script type=\"application/javascript\">(function(root) {\n",
       "  function embed_document(root) {\n",
       "  var docs_json = {\"6feb7e25-1edd-4d2f-b9a7-107c83e6260f\":{\"roots\":{\"references\":[{\"attributes\":{\"line_alpha\":0.1,\"line_color\":\"#1f77b3\",\"line_width\":2,\"x\":{\"field\":\"Date\"},\"y\":{\"field\":\"Value\"}},\"id\":\"26155\",\"type\":\"Line\"},{\"attributes\":{\"text\":\"Crude Oil Production, Saudi Arabia, Yearly\",\"text_color\":{\"value\":\"black\"},\"text_font_size\":{\"value\":\"12pt\"}},\"id\":\"26122\",\"type\":\"Title\"},{\"attributes\":{\"end\":12.039,\"reset_end\":12.039,\"reset_start\":6.771,\"start\":6.771,\"tags\":[[[\"Value\",\"Value\",null]]]},\"id\":\"26119\",\"type\":\"Range1d\"},{\"attributes\":{},\"id\":\"26170\",\"type\":\"UnionRenderers\"},{\"attributes\":{},\"id\":\"26128\",\"type\":\"LinearScale\"},{\"attributes\":{\"bottom_units\":\"screen\",\"fill_alpha\":0.5,\"fill_color\":\"lightgrey\",\"left_units\":\"screen\",\"level\":\"overlay\",\"line_alpha\":1.0,\"line_color\":\"black\",\"line_dash\":[4,4],\"line_width\":2,\"render_mode\":\"css\",\"right_units\":\"screen\",\"top_units\":\"screen\"},\"id\":\"26143\",\"type\":\"BoxAnnotation\"},{\"attributes\":{},\"id\":\"26182\",\"type\":\"YearsTicker\"},{\"attributes\":{\"months\":[0,2,4,6,8,10]},\"id\":\"26179\",\"type\":\"MonthsTicker\"},{\"attributes\":{},\"id\":\"26162\",\"type\":\"BasicTickFormatter\"},{\"attributes\":{},\"id\":\"26135\",\"type\":\"BasicTicker\"},{\"attributes\":{\"months\":[0,1,2,3,4,5,6,7,8,9,10,11]},\"id\":\"26178\",\"type\":\"MonthsTicker\"},{\"attributes\":{\"num_minor_ticks\":5,\"tickers\":[{\"id\":\"26171\"},{\"id\":\"26172\"},{\"id\":\"26173\"},{\"id\":\"26174\"},{\"id\":\"26175\"},{\"id\":\"26176\"},{\"id\":\"26177\"},{\"id\":\"26178\"},{\"id\":\"26179\"},{\"id\":\"26180\"},{\"id\":\"26181\"},{\"id\":\"26182\"}]},\"id\":\"26131\",\"type\":\"DatetimeTicker\"},{\"attributes\":{},\"id\":\"26152\",\"type\":\"Selection\"},{\"attributes\":{},\"id\":\"26126\",\"type\":\"LinearScale\"},{\"attributes\":{\"callback\":null,\"formatters\":{\"@{Date}\":\"datetime\"},\"renderers\":[{\"id\":\"26157\"}],\"tags\":[\"hv_created\"],\"tooltips\":[[\"Date\",\"@{Date}{%F %T}\"],[\"Value\",\"@{Value}\"]]},\"id\":\"26120\",\"type\":\"HoverTool\"},{\"attributes\":{\"base\":24,\"mantissas\":[1,2,4,6,8,12],\"max_interval\":43200000.0,\"min_interval\":3600000.0,\"num_minor_ticks\":0},\"id\":\"26173\",\"type\":\"AdaptiveTicker\"},{\"attributes\":{\"axis_label\":\"Date\",\"bounds\":\"auto\",\"formatter\":{\"id\":\"26160\"},\"major_label_orientation\":\"horizontal\",\"ticker\":{\"id\":\"26131\"}},\"id\":\"26130\",\"type\":\"DatetimeAxis\"},{\"attributes\":{\"end\":1588204800000.0,\"reset_end\":1588204800000.0,\"reset_start\":759974400000.0,\"start\":759974400000.0,\"tags\":[[[\"Date\",\"Date\",null]]]},\"id\":\"26118\",\"type\":\"Range1d\"},{\"attributes\":{\"axis\":{\"id\":\"26130\"},\"grid_line_color\":null,\"ticker\":null},\"id\":\"26133\",\"type\":\"Grid\"},{\"attributes\":{\"mantissas\":[1,2,5],\"max_interval\":500.0,\"num_minor_ticks\":0},\"id\":\"26171\",\"type\":\"AdaptiveTicker\"},{\"attributes\":{},\"id\":\"26139\",\"type\":\"PanTool\"},{\"attributes\":{\"margin\":[5,5,5,5],\"name\":\"HSpacer55303\",\"sizing_mode\":\"stretch_width\"},\"id\":\"26117\",\"type\":\"Spacer\"},{\"attributes\":{\"axis\":{\"id\":\"26134\"},\"dimension\":1,\"grid_line_color\":null,\"ticker\":null},\"id\":\"26137\",\"type\":\"Grid\"},{\"attributes\":{\"axis_label\":\"Barrels (millions)\",\"bounds\":\"auto\",\"formatter\":{\"id\":\"26162\"},\"major_label_orientation\":\"horizontal\",\"ticker\":{\"id\":\"26135\"}},\"id\":\"26134\",\"type\":\"LinearAxis\"},{\"attributes\":{},\"id\":\"26142\",\"type\":\"ResetTool\"},{\"attributes\":{},\"id\":\"26160\",\"type\":\"DatetimeTickFormatter\"},{\"attributes\":{\"align\":null,\"below\":[{\"id\":\"26130\"}],\"center\":[{\"id\":\"26133\"},{\"id\":\"26137\"}],\"left\":[{\"id\":\"26134\"}],\"margin\":null,\"min_border_bottom\":10,\"min_border_left\":10,\"min_border_right\":10,\"min_border_top\":10,\"plot_height\":300,\"plot_width\":700,\"renderers\":[{\"id\":\"26157\"}],\"sizing_mode\":\"fixed\",\"title\":{\"id\":\"26122\"},\"toolbar\":{\"id\":\"26144\"},\"x_range\":{\"id\":\"26118\"},\"x_scale\":{\"id\":\"26126\"},\"y_range\":{\"id\":\"26119\"},\"y_scale\":{\"id\":\"26128\"}},\"id\":\"26121\",\"subtype\":\"Figure\",\"type\":\"Plot\"},{\"attributes\":{\"data\":{\"Date\":{\"__ndarray__\":\"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\",\"dtype\":\"float64\",\"shape\":[316]},\"Value\":{\"__ndarray__\":\"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\",\"dtype\":\"float64\",\"shape\":[316]}},\"selected\":{\"id\":\"26152\"},\"selection_policy\":{\"id\":\"26170\"}},\"id\":\"26151\",\"type\":\"ColumnDataSource\"},{\"attributes\":{\"months\":[0,6]},\"id\":\"26181\",\"type\":\"MonthsTicker\"},{\"attributes\":{\"overlay\":{\"id\":\"26143\"}},\"id\":\"26141\",\"type\":\"BoxZoomTool\"},{\"attributes\":{\"active_drag\":\"auto\",\"active_inspect\":\"auto\",\"active_multi\":null,\"active_scroll\":\"auto\",\"active_tap\":\"auto\",\"tools\":[{\"id\":\"26120\"},{\"id\":\"26138\"},{\"id\":\"26139\"},{\"id\":\"26140\"},{\"id\":\"26141\"},{\"id\":\"26142\"}]},\"id\":\"26144\",\"type\":\"Toolbar\"},{\"attributes\":{\"margin\":[5,5,5,5],\"name\":\"HSpacer55304\",\"sizing_mode\":\"stretch_width\"},\"id\":\"26183\",\"type\":\"Spacer\"},{\"attributes\":{\"line_alpha\":0.2,\"line_color\":\"#1f77b3\",\"line_width\":2,\"x\":{\"field\":\"Date\"},\"y\":{\"field\":\"Value\"}},\"id\":\"26156\",\"type\":\"Line\"},{\"attributes\":{\"children\":[{\"id\":\"26117\"},{\"id\":\"26121\"},{\"id\":\"26183\"}],\"margin\":[0,0,0,0],\"name\":\"Row55299\",\"tags\":[\"embedded\"]},\"id\":\"26116\",\"type\":\"Row\"},{\"attributes\":{\"data_source\":{\"id\":\"26151\"},\"glyph\":{\"id\":\"26154\"},\"hover_glyph\":null,\"muted_glyph\":{\"id\":\"26156\"},\"nonselection_glyph\":{\"id\":\"26155\"},\"selection_glyph\":null,\"view\":{\"id\":\"26158\"}},\"id\":\"26157\",\"type\":\"GlyphRenderer\"},{\"attributes\":{\"base\":60,\"mantissas\":[1,2,5,10,15,20,30],\"max_interval\":1800000.0,\"min_interval\":1000.0,\"num_minor_ticks\":0},\"id\":\"26172\",\"type\":\"AdaptiveTicker\"},{\"attributes\":{},\"id\":\"26138\",\"type\":\"SaveTool\"},{\"attributes\":{\"source\":{\"id\":\"26151\"}},\"id\":\"26158\",\"type\":\"CDSView\"},{\"attributes\":{\"line_color\":\"#1f77b3\",\"line_width\":2,\"x\":{\"field\":\"Date\"},\"y\":{\"field\":\"Value\"}},\"id\":\"26154\",\"type\":\"Line\"},{\"attributes\":{\"days\":[1,2,3,4,5,6,7,8,9,10,11,12,13,14,15,16,17,18,19,20,21,22,23,24,25,26,27,28,29,30,31]},\"id\":\"26174\",\"type\":\"DaysTicker\"},{\"attributes\":{\"months\":[0,4,8]},\"id\":\"26180\",\"type\":\"MonthsTicker\"},{\"attributes\":{},\"id\":\"26140\",\"type\":\"WheelZoomTool\"},{\"attributes\":{\"days\":[1,15]},\"id\":\"26177\",\"type\":\"DaysTicker\"},{\"attributes\":{\"days\":[1,4,7,10,13,16,19,22,25,28]},\"id\":\"26175\",\"type\":\"DaysTicker\"},{\"attributes\":{\"days\":[1,8,15,22]},\"id\":\"26176\",\"type\":\"DaysTicker\"}],\"root_ids\":[\"26116\"]},\"title\":\"Bokeh Application\",\"version\":\"2.0.2\"}};\n",
       "  var render_items = [{\"docid\":\"6feb7e25-1edd-4d2f-b9a7-107c83e6260f\",\"root_ids\":[\"26116\"],\"roots\":{\"26116\":\"86728460-410a-41f2-b82c-93e791043cd8\"}}];\n",
       "  root.Bokeh.embed.embed_items_notebook(docs_json, render_items);\n",
       "  }\n",
       "if (root.Bokeh !== undefined) {\n",
       "    embed_document(root);\n",
       "  } else {\n",
       "    var attempts = 0;\n",
       "    var timer = setInterval(function(root) {\n",
       "      if (root.Bokeh !== undefined) {\n",
       "        clearInterval(timer);\n",
       "        embed_document(root);\n",
       "      } else if (document.readyState == \"complete\") {\n",
       "        attempts++;\n",
       "        if (attempts > 100) {\n",
       "          clearInterval(timer);\n",
       "          console.log(\"Bokeh: ERROR: Unable to run BokehJS code because BokehJS library is missing\");\n",
       "        }\n",
       "      }\n",
       "    }, 10, root)\n",
       "  }\n",
       "})(window);</script>"
      ],
      "text/plain": [
       ":Curve   [Date]   (Value)"
      ]
     },
     "execution_count": 118,
     "metadata": {
      "application/vnd.holoviews_exec.v0+json": {
       "id": "26116"
      }
     },
     "output_type": "execute_result"
    }
   ],
   "source": [
    "saudi_df.hvplot(xlabel='Date', ylabel='Barrels (millions)',title='Crude Oil Production, Saudi Arabia, Yearly')"
   ]
  },
  {
   "cell_type": "code",
   "execution_count": 113,
   "metadata": {},
   "outputs": [],
   "source": [
    "saudi_df.hvplot?"
   ]
  },
  {
   "cell_type": "code",
   "execution_count": 122,
   "metadata": {},
   "outputs": [
    {
     "name": "stderr",
     "output_type": "stream",
     "text": [
      "WARNING:param.CurvePlot55980: title_format is deprecated. Please use title instead\n",
      "WARNING:param.CurvePlot55980: title_format is deprecated. Please use title instead\n"
     ]
    },
    {
     "data": {},
     "metadata": {},
     "output_type": "display_data"
    },
    {
     "data": {
      "application/vnd.holoviews_exec.v0+json": "",
      "text/html": [
       "<div id='26792'>\n",
       "\n",
       "\n",
       "\n",
       "\n",
       "\n",
       "  <div class=\"bk-root\" id=\"2b159dbd-0bb8-4500-aebd-57cc076fa2d2\" data-root-id=\"26792\"></div>\n",
       "</div>\n",
       "<script type=\"application/javascript\">(function(root) {\n",
       "  function embed_document(root) {\n",
       "  var docs_json = {\"ff46fa28-29f0-431b-8906-aeb62c75ebbe\":{\"roots\":{\"references\":[{\"attributes\":{},\"id\":\"26818\",\"type\":\"ResetTool\"},{\"attributes\":{},\"id\":\"26828\",\"type\":\"Selection\"},{\"attributes\":{},\"id\":\"26804\",\"type\":\"LinearScale\"},{\"attributes\":{\"end\":12,\"reset_end\":12,\"reset_start\":9.5,\"start\":9.5,\"tags\":[[[\"Value\",\"Value\",null]]]},\"id\":\"26795\",\"type\":\"Range1d\"},{\"attributes\":{\"overlay\":{\"id\":\"26819\"}},\"id\":\"26817\",\"type\":\"BoxZoomTool\"},{\"attributes\":{\"base\":24,\"mantissas\":[1,2,4,6,8,12],\"max_interval\":43200000.0,\"min_interval\":3600000.0,\"num_minor_ticks\":0},\"id\":\"26849\",\"type\":\"AdaptiveTicker\"},{\"attributes\":{\"days\":[1,8,15,22]},\"id\":\"26852\",\"type\":\"DaysTicker\"},{\"attributes\":{\"line_alpha\":0.1,\"line_color\":\"#1f77b3\",\"line_width\":2,\"x\":{\"field\":\"Date\"},\"y\":{\"field\":\"Value\"}},\"id\":\"26831\",\"type\":\"Line\"},{\"attributes\":{\"months\":[0,1,2,3,4,5,6,7,8,9,10,11]},\"id\":\"26854\",\"type\":\"MonthsTicker\"},{\"attributes\":{\"children\":[{\"id\":\"26793\"},{\"id\":\"26797\"},{\"id\":\"26859\"}],\"margin\":[0,0,0,0],\"name\":\"Row55951\",\"tags\":[\"embedded\"]},\"id\":\"26792\",\"type\":\"Row\"},{\"attributes\":{},\"id\":\"26846\",\"type\":\"UnionRenderers\"},{\"attributes\":{\"axis_label\":\"Date\",\"bounds\":\"auto\",\"formatter\":{\"id\":\"26836\"},\"major_label_orientation\":\"horizontal\",\"ticker\":{\"id\":\"26807\"}},\"id\":\"26806\",\"type\":\"DatetimeAxis\"},{\"attributes\":{\"data\":{\"Date\":{\"__ndarray__\":\"AACAtpnrdkIAAMAIlPV2QgAAAFuO/3ZCAADA4eMId0IAAAA03hJ3QgAAgCCGHHdC\",\"dtype\":\"float64\",\"shape\":[6]},\"Value\":{\"__ndarray__\":\"zczMzMzMI0AAAAAAAIAjQDMzMzMzsyNAAAAAAACAI0CamZmZmZkjQDMzMzMzMydA\",\"dtype\":\"float64\",\"shape\":[6]}},\"selected\":{\"id\":\"26828\"},\"selection_policy\":{\"id\":\"26846\"}},\"id\":\"26827\",\"type\":\"ColumnDataSource\"},{\"attributes\":{\"months\":[0,6]},\"id\":\"26857\",\"type\":\"MonthsTicker\"},{\"attributes\":{\"text\":\"Crude Oil Production, Saudi Arabia, Monthly\",\"text_color\":{\"value\":\"black\"},\"text_font_size\":{\"value\":\"12pt\"}},\"id\":\"26798\",\"type\":\"Title\"},{\"attributes\":{},\"id\":\"26802\",\"type\":\"LinearScale\"},{\"attributes\":{\"data_source\":{\"id\":\"26827\"},\"glyph\":{\"id\":\"26830\"},\"hover_glyph\":null,\"muted_glyph\":{\"id\":\"26832\"},\"nonselection_glyph\":{\"id\":\"26831\"},\"selection_glyph\":null,\"view\":{\"id\":\"26834\"}},\"id\":\"26833\",\"type\":\"GlyphRenderer\"},{\"attributes\":{\"num_minor_ticks\":5,\"tickers\":[{\"id\":\"26847\"},{\"id\":\"26848\"},{\"id\":\"26849\"},{\"id\":\"26850\"},{\"id\":\"26851\"},{\"id\":\"26852\"},{\"id\":\"26853\"},{\"id\":\"26854\"},{\"id\":\"26855\"},{\"id\":\"26856\"},{\"id\":\"26857\"},{\"id\":\"26858\"}]},\"id\":\"26807\",\"type\":\"DatetimeTicker\"},{\"attributes\":{\"callback\":null,\"formatters\":{\"@{Date}\":\"datetime\"},\"renderers\":[{\"id\":\"26833\"}],\"tags\":[\"hv_created\"],\"tooltips\":[[\"Date\",\"@{Date}{%F %T}\"],[\"Value\",\"@{Value}\"]]},\"id\":\"26796\",\"type\":\"HoverTool\"},{\"attributes\":{},\"id\":\"26814\",\"type\":\"SaveTool\"},{\"attributes\":{},\"id\":\"26811\",\"type\":\"BasicTicker\"},{\"attributes\":{},\"id\":\"26815\",\"type\":\"PanTool\"},{\"attributes\":{\"days\":[1,4,7,10,13,16,19,22,25,28]},\"id\":\"26851\",\"type\":\"DaysTicker\"},{\"attributes\":{\"line_color\":\"#1f77b3\",\"line_width\":2,\"x\":{\"field\":\"Date\"},\"y\":{\"field\":\"Value\"}},\"id\":\"26830\",\"type\":\"Line\"},{\"attributes\":{\"bottom_units\":\"screen\",\"fill_alpha\":0.5,\"fill_color\":\"lightgrey\",\"left_units\":\"screen\",\"level\":\"overlay\",\"line_alpha\":1.0,\"line_color\":\"black\",\"line_dash\":[4,4],\"line_width\":2,\"render_mode\":\"css\",\"right_units\":\"screen\",\"top_units\":\"screen\"},\"id\":\"26819\",\"type\":\"BoxAnnotation\"},{\"attributes\":{\"base\":60,\"mantissas\":[1,2,5,10,15,20,30],\"max_interval\":1800000.0,\"min_interval\":1000.0,\"num_minor_ticks\":0},\"id\":\"26848\",\"type\":\"AdaptiveTicker\"},{\"attributes\":{\"active_drag\":\"auto\",\"active_inspect\":\"auto\",\"active_multi\":null,\"active_scroll\":\"auto\",\"active_tap\":\"auto\",\"tools\":[{\"id\":\"26796\"},{\"id\":\"26814\"},{\"id\":\"26815\"},{\"id\":\"26816\"},{\"id\":\"26817\"},{\"id\":\"26818\"}]},\"id\":\"26820\",\"type\":\"Toolbar\"},{\"attributes\":{\"axis\":{\"id\":\"26806\"},\"grid_line_color\":null,\"ticker\":null},\"id\":\"26809\",\"type\":\"Grid\"},{\"attributes\":{\"days\":[1,15]},\"id\":\"26853\",\"type\":\"DaysTicker\"},{\"attributes\":{\"axis\":{\"id\":\"26810\"},\"dimension\":1,\"grid_line_color\":null,\"ticker\":null},\"id\":\"26813\",\"type\":\"Grid\"},{\"attributes\":{\"align\":null,\"below\":[{\"id\":\"26806\"}],\"center\":[{\"id\":\"26809\"},{\"id\":\"26813\"}],\"left\":[{\"id\":\"26810\"}],\"margin\":null,\"min_border_bottom\":10,\"min_border_left\":10,\"min_border_right\":10,\"min_border_top\":10,\"plot_height\":300,\"plot_width\":700,\"renderers\":[{\"id\":\"26833\"}],\"sizing_mode\":\"fixed\",\"title\":{\"id\":\"26798\"},\"toolbar\":{\"id\":\"26820\"},\"x_range\":{\"id\":\"26794\"},\"x_scale\":{\"id\":\"26802\"},\"y_range\":{\"id\":\"26795\"},\"y_scale\":{\"id\":\"26804\"}},\"id\":\"26797\",\"subtype\":\"Figure\",\"type\":\"Plot\"},{\"attributes\":{},\"id\":\"26816\",\"type\":\"WheelZoomTool\"},{\"attributes\":{\"margin\":[5,5,5,5],\"name\":\"HSpacer55955\",\"sizing_mode\":\"stretch_width\"},\"id\":\"26793\",\"type\":\"Spacer\"},{\"attributes\":{\"days\":[1,2,3,4,5,6,7,8,9,10,11,12,13,14,15,16,17,18,19,20,21,22,23,24,25,26,27,28,29,30,31]},\"id\":\"26850\",\"type\":\"DaysTicker\"},{\"attributes\":{\"source\":{\"id\":\"26827\"}},\"id\":\"26834\",\"type\":\"CDSView\"},{\"attributes\":{},\"id\":\"26858\",\"type\":\"YearsTicker\"},{\"attributes\":{},\"id\":\"26838\",\"type\":\"BasicTickFormatter\"},{\"attributes\":{\"margin\":[5,5,5,5],\"name\":\"HSpacer55956\",\"sizing_mode\":\"stretch_width\"},\"id\":\"26859\",\"type\":\"Spacer\"},{\"attributes\":{\"line_alpha\":0.2,\"line_color\":\"#1f77b3\",\"line_width\":2,\"x\":{\"field\":\"Date\"},\"y\":{\"field\":\"Value\"}},\"id\":\"26832\",\"type\":\"Line\"},{\"attributes\":{\"end\":1588204800000.0,\"reset_end\":1588204800000.0,\"reset_start\":1575072000000.0,\"start\":1575072000000.0,\"tags\":[[[\"Date\",\"Date\",null]]]},\"id\":\"26794\",\"type\":\"Range1d\"},{\"attributes\":{},\"id\":\"26836\",\"type\":\"DatetimeTickFormatter\"},{\"attributes\":{\"mantissas\":[1,2,5],\"max_interval\":500.0,\"num_minor_ticks\":0},\"id\":\"26847\",\"type\":\"AdaptiveTicker\"},{\"attributes\":{\"axis_label\":\"Barrels (millions)\",\"bounds\":\"auto\",\"formatter\":{\"id\":\"26838\"},\"major_label_orientation\":\"horizontal\",\"ticker\":{\"id\":\"26811\"}},\"id\":\"26810\",\"type\":\"LinearAxis\"},{\"attributes\":{\"months\":[0,4,8]},\"id\":\"26856\",\"type\":\"MonthsTicker\"},{\"attributes\":{\"months\":[0,2,4,6,8,10]},\"id\":\"26855\",\"type\":\"MonthsTicker\"}],\"root_ids\":[\"26792\"]},\"title\":\"Bokeh Application\",\"version\":\"2.0.2\"}};\n",
       "  var render_items = [{\"docid\":\"ff46fa28-29f0-431b-8906-aeb62c75ebbe\",\"root_ids\":[\"26792\"],\"roots\":{\"26792\":\"2b159dbd-0bb8-4500-aebd-57cc076fa2d2\"}}];\n",
       "  root.Bokeh.embed.embed_items_notebook(docs_json, render_items);\n",
       "  }\n",
       "if (root.Bokeh !== undefined) {\n",
       "    embed_document(root);\n",
       "  } else {\n",
       "    var attempts = 0;\n",
       "    var timer = setInterval(function(root) {\n",
       "      if (root.Bokeh !== undefined) {\n",
       "        clearInterval(timer);\n",
       "        embed_document(root);\n",
       "      } else if (document.readyState == \"complete\") {\n",
       "        attempts++;\n",
       "        if (attempts > 100) {\n",
       "          clearInterval(timer);\n",
       "          console.log(\"Bokeh: ERROR: Unable to run BokehJS code because BokehJS library is missing\");\n",
       "        }\n",
       "      }\n",
       "    }, 10, root)\n",
       "  }\n",
       "})(window);</script>"
      ],
      "text/plain": [
       ":Curve   [Date]   (Value)"
      ]
     },
     "execution_count": 122,
     "metadata": {
      "application/vnd.holoviews_exec.v0+json": {
       "id": "26792"
      }
     },
     "output_type": "execute_result"
    }
   ],
   "source": [
    "saudi_df.loc[saudi_df.index>'2019-11-01'].hvplot(title='Crude Oil Production, Saudi Arabia, Monthly', ylabel='Barrels (millions)',ylim=(9.5,12))"
   ]
  },
  {
   "cell_type": "code",
   "execution_count": null,
   "metadata": {},
   "outputs": [],
   "source": []
  },
  {
   "cell_type": "code",
   "execution_count": 112,
   "metadata": {},
   "outputs": [
    {
     "name": "stderr",
     "output_type": "stream",
     "text": [
      "WARNING:param.CurvePlot54295: title_format is deprecated. Please use title instead\n",
      "WARNING:param.CurvePlot54295: title_format is deprecated. Please use title instead\n",
      "WARNING:param.CurvePlot54325: title_format is deprecated. Please use title instead\n",
      "WARNING:param.CurvePlot54325: title_format is deprecated. Please use title instead\n"
     ]
    },
    {
     "data": {},
     "metadata": {},
     "output_type": "display_data"
    },
    {
     "data": {
      "application/vnd.holoviews_exec.v0+json": "",
      "text/html": [
       "<div id='24456'>\n",
       "\n",
       "\n",
       "\n",
       "\n",
       "\n",
       "  <div class=\"bk-root\" id=\"7ab89146-e25e-4761-81b8-d86ee87533cc\" data-root-id=\"24456\"></div>\n",
       "</div>\n",
       "<script type=\"application/javascript\">(function(root) {\n",
       "  function embed_document(root) {\n",
       "  var docs_json = {\"6983bc9e-37aa-4d25-ad4c-60d6c60fc44b\":{\"roots\":{\"references\":[{\"attributes\":{},\"id\":\"24568\",\"type\":\"WheelZoomTool\"},{\"attributes\":{},\"id\":\"24492\",\"type\":\"Selection\"},{\"attributes\":{},\"id\":\"24468\",\"type\":\"LinearScale\"},{\"attributes\":{},\"id\":\"24527\",\"type\":\"ResetTool\"},{\"attributes\":{\"base\":60,\"mantissas\":[1,2,5,10,15,20,30],\"max_interval\":1800000.0,\"min_interval\":1000.0,\"num_minor_ticks\":0},\"id\":\"24621\",\"type\":\"AdaptiveTicker\"},{\"attributes\":{},\"id\":\"24566\",\"type\":\"SaveTool\"},{\"attributes\":{\"active_drag\":\"auto\",\"active_inspect\":\"auto\",\"active_multi\":null,\"active_scroll\":\"auto\",\"active_tap\":\"auto\",\"tools\":[{\"id\":\"24548\"},{\"id\":\"24566\"},{\"id\":\"24567\"},{\"id\":\"24568\"},{\"id\":\"24569\"},{\"id\":\"24570\"}]},\"id\":\"24572\",\"type\":\"Toolbar\"},{\"attributes\":{\"overlay\":{\"id\":\"24571\"}},\"id\":\"24569\",\"type\":\"BoxZoomTool\"},{\"attributes\":{},\"id\":\"24610\",\"type\":\"YearsTicker\"},{\"attributes\":{\"line_alpha\":0.1,\"line_color\":\"#1f77b3\",\"line_width\":2,\"x\":{\"field\":\"Date\"},\"y\":{\"field\":\"Value\"}},\"id\":\"24583\",\"type\":\"Line\"},{\"attributes\":{\"days\":[1,2,3,4,5,6,7,8,9,10,11,12,13,14,15,16,17,18,19,20,21,22,23,24,25,26,27,28,29,30,31]},\"id\":\"24623\",\"type\":\"DaysTicker\"},{\"attributes\":{},\"id\":\"24466\",\"type\":\"LinearScale\"},{\"attributes\":{\"months\":[0,6]},\"id\":\"24609\",\"type\":\"MonthsTicker\"},{\"attributes\":{},\"id\":\"24598\",\"type\":\"UnionRenderers\"},{\"attributes\":{},\"id\":\"24570\",\"type\":\"ResetTool\"},{\"attributes\":{\"bottom_units\":\"screen\",\"fill_alpha\":0.5,\"fill_color\":\"lightgrey\",\"left_units\":\"screen\",\"level\":\"overlay\",\"line_alpha\":1.0,\"line_color\":\"black\",\"line_dash\":[4,4],\"line_width\":2,\"render_mode\":\"css\",\"right_units\":\"screen\",\"top_units\":\"screen\"},\"id\":\"24528\",\"type\":\"BoxAnnotation\"},{\"attributes\":{\"base\":24,\"mantissas\":[1,2,4,6,8,12],\"max_interval\":43200000.0,\"min_interval\":3600000.0,\"num_minor_ticks\":0},\"id\":\"24622\",\"type\":\"AdaptiveTicker\"},{\"attributes\":{\"mantissas\":[1,2,5],\"max_interval\":500.0,\"num_minor_ticks\":0},\"id\":\"24620\",\"type\":\"AdaptiveTicker\"},{\"attributes\":{\"active_drag\":\"auto\",\"active_inspect\":\"auto\",\"active_multi\":null,\"active_scroll\":\"auto\",\"active_tap\":\"auto\",\"tools\":[{\"id\":\"24505\"},{\"id\":\"24523\"},{\"id\":\"24524\"},{\"id\":\"24525\"},{\"id\":\"24526\"},{\"id\":\"24527\"}]},\"id\":\"24529\",\"type\":\"Toolbar\"},{\"attributes\":{\"text\":\"\",\"text_color\":{\"value\":\"black\"},\"text_font_size\":{\"value\":\"12pt\"}},\"id\":\"24462\",\"type\":\"Title\"},{\"attributes\":{},\"id\":\"24567\",\"type\":\"PanTool\"},{\"attributes\":{\"axis_label\":\"Value\",\"bounds\":\"auto\",\"formatter\":{\"id\":\"24590\"},\"major_label_orientation\":\"horizontal\",\"ticker\":{\"id\":\"24563\"}},\"id\":\"24562\",\"type\":\"LinearAxis\"},{\"attributes\":{\"data\":{\"date\":{\"__ndarray__\":\"AABAx6j8dkIAAAAt+/x2QgAAwJJN/XZCAACA+J/9dkIAAEBe8v12QgAAAMRE/nZCAADAKZf+dkIAAICP6f52QgAAQPU7/3ZCAAAAW47/dkIAAMDA4P92QgAAgCYzAHdCAABAjIUAd0IAAADy1wB3QgAAwFcqAXdCAACAvXwBd0IAAEAjzwF3QgAAAIkhAndCAADA7nMCd0IAAIBUxgJ3QgAAQLoYA3dCAAAAIGsDd0IAAMCFvQN3QgAAgOsPBHdCAABAUWIEd0IAAAC3tAR3QgAAwBwHBXdCAACAglkFd0IAAEDoqwV3QgAAAE7+BXdCAADAs1AGd0IAAIAZowZ3QgAAQH/1BndCAAAA5UcHd0IAAMBKmgd3QgAAgLDsB3dCAABAFj8Id0IAAAB8kQh3QgAAwOHjCHdCAACARzYJd0IAAECtiAl3QgAAABPbCXdCAADAeC0Kd0IAAIDefwp3QgAAQETSCndCAAAAqiQLd0IAAMAPdwt3QgAAgHXJC3dCAABA2xsMd0IAAABBbgx3QgAAwKbADHdCAACADBMNd0IAAEByZQ13QgAAANi3DXdCAADAPQoOd0IAAICjXA53QgAAQAmvDndCAAAAbwEPd0IAAMDUUw93QgAAgDqmD3dCAABAoPgPd0IAAAAGSxB3QgAAwGudEHdCAACA0e8Qd0IAAEA3QhF3QgAAAJ2UEXdCAADAAucRd0IAAIBoORJ3QgAAQM6LEndCAAAANN4Sd0IAAMCZMBN3QgAAgP+CE3dCAABAZdUTd0IAAADLJxR3QgAAwDB6FHdCAACAlswUd0IAAED8HhV3QgAAAGJxFXdCAADAx8MVd0IAAIAtFhZ3QgAAQJNoFndCAAAA+boWd0IAAMBeDRd3QgAAgMRfF3dCAABAKrIXd0IAAACQBBh3QgAAwPVWGHdCAACAW6kYd0IAAEDB+xh3QgAAACdOGXdCAADAjKAZd0IAAIDy8hl3QgAAQFhFGndCAAAAvpcad0IAAMAj6hp3QgAAgIk8G3dCAABA744bd0IAAABV4Rt3QgAAwLozHHdCAACAIIYcd0IAAECG2Bx3QgAAAOwqHXdCAADAUX0dd0IAAIC3zx13QgAAQB0iHndCAAAAg3Qed0IAAMDoxh53QgAAgE4ZH3dC\",\"dtype\":\"float64\",\"shape\":[108]},\"positive\":[1,1,1,1,1,1,1,1,1,1,1,1,1,1,1,1,2,2,2,2,2,2,2,2,2,2,2,2,2,2,2,2,2,2,2,2,2,9,18,40,53,94,207,275,387,538,721,1013,1280,1672,2142,3004,3741,4842,6131,8254,10865,15063,20834,27367,36334,47013,57179,69473,86789,105462,124815,144297,165521,189998,215177,243235,275234,308752,334718,363465,393874,424045,458260,492848,522750,551906,576875,602795,633112,664129,696010,724047,751646,776830,802772,831374,863123,897319,933310,960343,981134,1006137,1033157,1062503,1095681,1125719,1152006,1173453,1195605,1220557,1248137,1275916]},\"selected\":{\"id\":\"24492\"},\"selection_policy\":{\"id\":\"24598\"}},\"id\":\"24491\",\"type\":\"ColumnDataSource\"},{\"attributes\":{},\"id\":\"24580\",\"type\":\"Selection\"},{\"attributes\":{\"data\":{\"Date\":{\"__ndarray__\":\"AACAtpnrdkIAAMAIlPV2QgAAAFuO/3ZCAADA4eMId0IAAAA03hJ3QgAAgCCGHHdCAADAcoAmd0I=\",\"dtype\":\"float64\",\"shape\":[7]},\"Value\":{\"__ndarray__\":\"j8L1KFwPTUBSuB6F65FOQArXo3A9yklACtejcD1qRkDD9Shcj4I0QHsUrkfhOjNAuB6F61F4NEA=\",\"dtype\":\"float64\",\"shape\":[7]}},\"selected\":{\"id\":\"24537\"},\"selection_policy\":{\"id\":\"24619\"}},\"id\":\"24536\",\"type\":\"ColumnDataSource\"},{\"attributes\":{\"line_color\":\"#1f77b3\",\"line_width\":2,\"x\":{\"field\":\"Date\"},\"y\":{\"field\":\"Value\"}},\"id\":\"24582\",\"type\":\"Line\"},{\"attributes\":{\"axis\":{\"id\":\"24558\"},\"grid_line_color\":null,\"ticker\":null},\"id\":\"24561\",\"type\":\"Grid\"},{\"attributes\":{\"days\":[1,15]},\"id\":\"24605\",\"type\":\"DaysTicker\"},{\"attributes\":{\"axis_label\":\"Date\",\"bounds\":\"auto\",\"formatter\":{\"id\":\"24588\"},\"major_label_orientation\":\"horizontal\",\"ticker\":{\"id\":\"24559\"}},\"id\":\"24558\",\"type\":\"DatetimeAxis\"},{\"attributes\":{\"num_minor_ticks\":5,\"tickers\":[{\"id\":\"24641\"},{\"id\":\"24642\"},{\"id\":\"24643\"},{\"id\":\"24644\"},{\"id\":\"24645\"},{\"id\":\"24646\"},{\"id\":\"24647\"},{\"id\":\"24648\"},{\"id\":\"24649\"},{\"id\":\"24650\"},{\"id\":\"24651\"},{\"id\":\"24652\"}]},\"id\":\"24559\",\"type\":\"DatetimeTicker\"},{\"attributes\":{\"toolbars\":[{\"id\":\"24484\"},{\"id\":\"24529\"},{\"id\":\"24572\"}],\"tools\":[{\"id\":\"24460\"},{\"id\":\"24478\"},{\"id\":\"24479\"},{\"id\":\"24480\"},{\"id\":\"24481\"},{\"id\":\"24482\"},{\"id\":\"24505\"},{\"id\":\"24523\"},{\"id\":\"24524\"},{\"id\":\"24525\"},{\"id\":\"24526\"},{\"id\":\"24527\"},{\"id\":\"24548\"},{\"id\":\"24566\"},{\"id\":\"24567\"},{\"id\":\"24568\"},{\"id\":\"24569\"},{\"id\":\"24570\"}]},\"id\":\"24655\",\"type\":\"ProxyToolbar\"},{\"attributes\":{\"axis_label\":\"date\",\"bounds\":\"auto\",\"formatter\":{\"id\":\"24500\"},\"major_label_orientation\":\"horizontal\",\"ticker\":{\"id\":\"24471\"}},\"id\":\"24470\",\"type\":\"DatetimeAxis\"},{\"attributes\":{},\"id\":\"24554\",\"type\":\"LinearScale\"},{\"attributes\":{\"axis\":{\"id\":\"24562\"},\"dimension\":1,\"grid_line_color\":null,\"ticker\":null},\"id\":\"24565\",\"type\":\"Grid\"},{\"attributes\":{\"align\":null,\"below\":[{\"id\":\"24470\"}],\"center\":[{\"id\":\"24473\"},{\"id\":\"24477\"}],\"left\":[{\"id\":\"24474\"}],\"margin\":null,\"min_border_bottom\":10,\"min_border_left\":10,\"min_border_right\":10,\"min_border_top\":10,\"plot_height\":300,\"plot_width\":700,\"renderers\":[{\"id\":\"24497\"}],\"sizing_mode\":\"fixed\",\"title\":{\"id\":\"24462\"},\"toolbar\":{\"id\":\"24484\"},\"toolbar_location\":null,\"x_range\":{\"id\":\"24458\"},\"x_scale\":{\"id\":\"24466\"},\"y_range\":{\"id\":\"24459\"},\"y_scale\":{\"id\":\"24468\"}},\"id\":\"24461\",\"subtype\":\"Figure\",\"type\":\"Plot\"},{\"attributes\":{\"days\":[1,4,7,10,13,16,19,22,25,28]},\"id\":\"24624\",\"type\":\"DaysTicker\"},{\"attributes\":{\"mantissas\":[1,2,5],\"max_interval\":500.0,\"num_minor_ticks\":0},\"id\":\"24599\",\"type\":\"AdaptiveTicker\"},{\"attributes\":{},\"id\":\"24556\",\"type\":\"LinearScale\"},{\"attributes\":{\"months\":[0,1,2,3,4,5,6,7,8,9,10,11]},\"id\":\"24606\",\"type\":\"MonthsTicker\"},{\"attributes\":{},\"id\":\"24563\",\"type\":\"BasicTicker\"},{\"attributes\":{\"data\":{\"Date\":{\"__ndarray__\":\"AACAtpnrdkIAAMAIlPV2QgAAAFuO/3ZCAADA4eMId0IAAAA03hJ3QgAAgCCGHHdC\",\"dtype\":\"float64\",\"shape\":[6]},\"Value\":{\"__ndarray__\":\"zczMzMzMI0AAAAAAAIAjQDMzMzMzsyNAAAAAAACAI0CamZmZmZkjQDMzMzMzMydA\",\"dtype\":\"float64\",\"shape\":[6]}},\"selected\":{\"id\":\"24580\"},\"selection_policy\":{\"id\":\"24640\"}},\"id\":\"24579\",\"type\":\"ColumnDataSource\"},{\"attributes\":{},\"id\":\"24619\",\"type\":\"UnionRenderers\"},{\"attributes\":{\"margin\":[5,5,5,5],\"name\":\"HSpacer54182\",\"sizing_mode\":\"stretch_width\"},\"id\":\"25138\",\"type\":\"Spacer\"},{\"attributes\":{\"children\":[[{\"id\":\"24461\"},0,0],[{\"id\":\"24506\"},0,1],[{\"id\":\"24549\"},0,2]]},\"id\":\"24654\",\"type\":\"GridBox\"},{\"attributes\":{\"callback\":null,\"formatters\":{\"@{Date}\":\"datetime\"},\"renderers\":[{\"id\":\"24585\"}],\"tags\":[\"hv_created\"],\"tooltips\":[[\"Date\",\"@{Date}{%F %T}\"],[\"Value\",\"@{Value}\"]]},\"id\":\"24548\",\"type\":\"HoverTool\"},{\"attributes\":{\"months\":[0,2,4,6,8,10]},\"id\":\"24607\",\"type\":\"MonthsTicker\"},{\"attributes\":{\"align\":null,\"below\":[{\"id\":\"24558\"}],\"center\":[{\"id\":\"24561\"},{\"id\":\"24565\"}],\"left\":[{\"id\":\"24562\"}],\"margin\":null,\"min_border_bottom\":10,\"min_border_left\":10,\"min_border_right\":10,\"min_border_top\":10,\"plot_height\":300,\"plot_width\":700,\"renderers\":[{\"id\":\"24585\"}],\"sizing_mode\":\"fixed\",\"title\":{\"id\":\"24550\"},\"toolbar\":{\"id\":\"24572\"},\"toolbar_location\":null,\"x_range\":{\"id\":\"24503\"},\"x_scale\":{\"id\":\"24554\"},\"y_range\":{\"id\":\"24504\"},\"y_scale\":{\"id\":\"24556\"}},\"id\":\"24549\",\"subtype\":\"Figure\",\"type\":\"Plot\"},{\"attributes\":{\"text\":\"Crude Oil Production, Saudi Arabia, Monthly\",\"text_color\":{\"value\":\"black\"},\"text_font_size\":{\"value\":\"12pt\"}},\"id\":\"24550\",\"type\":\"Title\"},{\"attributes\":{\"months\":[0,4,8]},\"id\":\"24608\",\"type\":\"MonthsTicker\"},{\"attributes\":{},\"id\":\"24479\",\"type\":\"PanTool\"},{\"attributes\":{\"axis\":{\"id\":\"24519\"},\"dimension\":1,\"grid_line_color\":null,\"ticker\":null},\"id\":\"24522\",\"type\":\"Grid\"},{\"attributes\":{\"days\":[1,8,15,22]},\"id\":\"24625\",\"type\":\"DaysTicker\"},{\"attributes\":{\"bottom_units\":\"screen\",\"fill_alpha\":0.5,\"fill_color\":\"lightgrey\",\"left_units\":\"screen\",\"level\":\"overlay\",\"line_alpha\":1.0,\"line_color\":\"black\",\"line_dash\":[4,4],\"line_width\":2,\"render_mode\":\"css\",\"right_units\":\"screen\",\"top_units\":\"screen\"},\"id\":\"24483\",\"type\":\"BoxAnnotation\"},{\"attributes\":{\"axis_label\":\"Value\",\"bounds\":\"auto\",\"formatter\":{\"id\":\"24547\"},\"major_label_orientation\":\"horizontal\",\"ticker\":{\"id\":\"24520\"}},\"id\":\"24519\",\"type\":\"LinearAxis\"},{\"attributes\":{\"num_minor_ticks\":5,\"tickers\":[{\"id\":\"24620\"},{\"id\":\"24621\"},{\"id\":\"24622\"},{\"id\":\"24623\"},{\"id\":\"24624\"},{\"id\":\"24625\"},{\"id\":\"24626\"},{\"id\":\"24627\"},{\"id\":\"24628\"},{\"id\":\"24629\"},{\"id\":\"24630\"},{\"id\":\"24631\"}]},\"id\":\"24516\",\"type\":\"DatetimeTicker\"},{\"attributes\":{\"active_drag\":\"auto\",\"active_inspect\":\"auto\",\"active_multi\":null,\"active_scroll\":\"auto\",\"active_tap\":\"auto\",\"tools\":[{\"id\":\"24460\"},{\"id\":\"24478\"},{\"id\":\"24479\"},{\"id\":\"24480\"},{\"id\":\"24481\"},{\"id\":\"24482\"}]},\"id\":\"24484\",\"type\":\"Toolbar\"},{\"attributes\":{\"axis_label\":\"Date\",\"bounds\":\"auto\",\"formatter\":{\"id\":\"24545\"},\"major_label_orientation\":\"horizontal\",\"ticker\":{\"id\":\"24516\"}},\"id\":\"24515\",\"type\":\"DatetimeAxis\"},{\"attributes\":{\"months\":[0,4,8]},\"id\":\"24629\",\"type\":\"MonthsTicker\"},{\"attributes\":{\"end\":1590883200000.0,\"reset_end\":1590883200000.0,\"reset_start\":1575072000000.0,\"start\":1575072000000.0,\"tags\":[[[\"Date\",\"Date\",null]]]},\"id\":\"24503\",\"type\":\"Range1d\"},{\"attributes\":{\"axis\":{\"id\":\"24515\"},\"grid_line_color\":null,\"ticker\":null},\"id\":\"24518\",\"type\":\"Grid\"},{\"attributes\":{},\"id\":\"24513\",\"type\":\"LinearScale\"},{\"attributes\":{},\"id\":\"24631\",\"type\":\"YearsTicker\"},{\"attributes\":{\"callback\":null,\"formatters\":{\"@{date}\":\"datetime\"},\"renderers\":[{\"id\":\"24497\"}],\"tags\":[\"hv_created\"],\"tooltips\":[[\"date\",\"@{date}{%F %T}\"],[\"positive\",\"@{positive}\"]]},\"id\":\"24460\",\"type\":\"HoverTool\"},{\"attributes\":{\"overlay\":{\"id\":\"24483\"}},\"id\":\"24481\",\"type\":\"BoxZoomTool\"},{\"attributes\":{\"days\":[1,4,7,10,13,16,19,22,25,28]},\"id\":\"24603\",\"type\":\"DaysTicker\"},{\"attributes\":{\"source\":{\"id\":\"24579\"}},\"id\":\"24586\",\"type\":\"CDSView\"},{\"attributes\":{},\"id\":\"24500\",\"type\":\"DatetimeTickFormatter\"},{\"attributes\":{\"months\":[0,6]},\"id\":\"24630\",\"type\":\"MonthsTicker\"},{\"attributes\":{},\"id\":\"24520\",\"type\":\"BasicTicker\"},{\"attributes\":{},\"id\":\"24482\",\"type\":\"ResetTool\"},{\"attributes\":{\"data_source\":{\"id\":\"24491\"},\"glyph\":{\"id\":\"24494\"},\"hover_glyph\":null,\"muted_glyph\":{\"id\":\"24496\"},\"nonselection_glyph\":{\"id\":\"24495\"},\"selection_glyph\":null,\"view\":{\"id\":\"24498\"}},\"id\":\"24497\",\"type\":\"GlyphRenderer\"},{\"attributes\":{},\"id\":\"24511\",\"type\":\"LinearScale\"},{\"attributes\":{\"end\":65.331,\"reset_end\":65.331,\"reset_start\":9.5,\"start\":9.5,\"tags\":[[[\"Value\",\"Value\",null]]]},\"id\":\"24504\",\"type\":\"Range1d\"},{\"attributes\":{},\"id\":\"24547\",\"type\":\"BasicTickFormatter\"},{\"attributes\":{\"base\":24,\"mantissas\":[1,2,4,6,8,12],\"max_interval\":43200000.0,\"min_interval\":3600000.0,\"num_minor_ticks\":0},\"id\":\"24643\",\"type\":\"AdaptiveTicker\"},{\"attributes\":{\"children\":[{\"id\":\"24656\"},{\"id\":\"24654\"}]},\"id\":\"24657\",\"type\":\"Column\"},{\"attributes\":{},\"id\":\"24545\",\"type\":\"DatetimeTickFormatter\"},{\"attributes\":{\"line_alpha\":0.2,\"line_color\":\"#1f77b3\",\"line_width\":2,\"x\":{\"field\":\"Date\"},\"y\":{\"field\":\"Value\"}},\"id\":\"24541\",\"type\":\"Line\"},{\"attributes\":{\"days\":[1,8,15,22]},\"id\":\"24604\",\"type\":\"DaysTicker\"},{\"attributes\":{\"days\":[1,15]},\"id\":\"24647\",\"type\":\"DaysTicker\"},{\"attributes\":{\"line_alpha\":0.2,\"line_color\":\"#1f77b3\",\"line_width\":2,\"x\":{\"field\":\"Date\"},\"y\":{\"field\":\"Value\"}},\"id\":\"24584\",\"type\":\"Line\"},{\"attributes\":{\"end\":1403507.5,\"reset_end\":1403507.5,\"reset_start\":-127590.5,\"start\":-127590.5,\"tags\":[[[\"positive\",\"positive\",null]]]},\"id\":\"24459\",\"type\":\"Range1d\"},{\"attributes\":{\"days\":[1,15]},\"id\":\"24626\",\"type\":\"DaysTicker\"},{\"attributes\":{\"days\":[1,2,3,4,5,6,7,8,9,10,11,12,13,14,15,16,17,18,19,20,21,22,23,24,25,26,27,28,29,30,31]},\"id\":\"24602\",\"type\":\"DaysTicker\"},{\"attributes\":{\"align\":null,\"below\":[{\"id\":\"24515\"}],\"center\":[{\"id\":\"24518\"},{\"id\":\"24522\"}],\"left\":[{\"id\":\"24519\"}],\"margin\":null,\"min_border_bottom\":10,\"min_border_left\":10,\"min_border_right\":10,\"min_border_top\":10,\"plot_height\":300,\"plot_width\":700,\"renderers\":[{\"id\":\"24542\"}],\"sizing_mode\":\"fixed\",\"title\":{\"id\":\"24507\"},\"toolbar\":{\"id\":\"24529\"},\"toolbar_location\":null,\"x_range\":{\"id\":\"24503\"},\"x_scale\":{\"id\":\"24511\"},\"y_range\":{\"id\":\"24504\"},\"y_scale\":{\"id\":\"24513\"}},\"id\":\"24506\",\"subtype\":\"Figure\",\"type\":\"Plot\"},{\"attributes\":{},\"id\":\"24502\",\"type\":\"BasicTickFormatter\"},{\"attributes\":{\"bottom_units\":\"screen\",\"fill_alpha\":0.5,\"fill_color\":\"lightgrey\",\"left_units\":\"screen\",\"level\":\"overlay\",\"line_alpha\":1.0,\"line_color\":\"black\",\"line_dash\":[4,4],\"line_width\":2,\"render_mode\":\"css\",\"right_units\":\"screen\",\"top_units\":\"screen\"},\"id\":\"24571\",\"type\":\"BoxAnnotation\"},{\"attributes\":{\"mantissas\":[1,2,5],\"max_interval\":500.0,\"num_minor_ticks\":0},\"id\":\"24641\",\"type\":\"AdaptiveTicker\"},{\"attributes\":{\"toolbar\":{\"id\":\"24655\"},\"toolbar_location\":\"above\"},\"id\":\"24656\",\"type\":\"ToolbarBox\"},{\"attributes\":{\"line_color\":\"#1f77b3\",\"line_width\":2,\"x\":{\"field\":\"Date\"},\"y\":{\"field\":\"Value\"}},\"id\":\"24539\",\"type\":\"Line\"},{\"attributes\":{\"axis_label\":\"positive\",\"bounds\":\"auto\",\"formatter\":{\"id\":\"24502\"},\"major_label_orientation\":\"horizontal\",\"ticker\":{\"id\":\"24475\"}},\"id\":\"24474\",\"type\":\"LinearAxis\"},{\"attributes\":{\"months\":[0,2,4,6,8,10]},\"id\":\"24628\",\"type\":\"MonthsTicker\"},{\"attributes\":{\"data_source\":{\"id\":\"24579\"},\"glyph\":{\"id\":\"24582\"},\"hover_glyph\":null,\"muted_glyph\":{\"id\":\"24584\"},\"nonselection_glyph\":{\"id\":\"24583\"},\"selection_glyph\":null,\"view\":{\"id\":\"24586\"}},\"id\":\"24585\",\"type\":\"GlyphRenderer\"},{\"attributes\":{\"months\":[0,2,4,6,8,10]},\"id\":\"24649\",\"type\":\"MonthsTicker\"},{\"attributes\":{},\"id\":\"24590\",\"type\":\"BasicTickFormatter\"},{\"attributes\":{\"text\":\"WTI Crude Oil Price Per Barrel\",\"text_color\":{\"value\":\"black\"},\"text_font_size\":{\"value\":\"12pt\"}},\"id\":\"24507\",\"type\":\"Title\"},{\"attributes\":{},\"id\":\"24652\",\"type\":\"YearsTicker\"},{\"attributes\":{\"base\":24,\"mantissas\":[1,2,4,6,8,12],\"max_interval\":43200000.0,\"min_interval\":3600000.0,\"num_minor_ticks\":0},\"id\":\"24601\",\"type\":\"AdaptiveTicker\"},{\"attributes\":{\"days\":[1,8,15,22]},\"id\":\"24646\",\"type\":\"DaysTicker\"},{\"attributes\":{},\"id\":\"24537\",\"type\":\"Selection\"},{\"attributes\":{},\"id\":\"24480\",\"type\":\"WheelZoomTool\"},{\"attributes\":{\"line_alpha\":0.1,\"line_color\":\"#1f77b3\",\"line_width\":2,\"x\":{\"field\":\"date\"},\"y\":{\"field\":\"positive\"}},\"id\":\"24495\",\"type\":\"Line\"},{\"attributes\":{\"base\":60,\"mantissas\":[1,2,5,10,15,20,30],\"max_interval\":1800000.0,\"min_interval\":1000.0,\"num_minor_ticks\":0},\"id\":\"24642\",\"type\":\"AdaptiveTicker\"},{\"attributes\":{\"source\":{\"id\":\"24491\"}},\"id\":\"24498\",\"type\":\"CDSView\"},{\"attributes\":{\"months\":[0,1,2,3,4,5,6,7,8,9,10,11]},\"id\":\"24627\",\"type\":\"MonthsTicker\"},{\"attributes\":{\"line_alpha\":0.1,\"line_color\":\"#1f77b3\",\"line_width\":2,\"x\":{\"field\":\"Date\"},\"y\":{\"field\":\"Value\"}},\"id\":\"24540\",\"type\":\"Line\"},{\"attributes\":{\"months\":[0,1,2,3,4,5,6,7,8,9,10,11]},\"id\":\"24648\",\"type\":\"MonthsTicker\"},{\"attributes\":{},\"id\":\"24478\",\"type\":\"SaveTool\"},{\"attributes\":{\"data_source\":{\"id\":\"24536\"},\"glyph\":{\"id\":\"24539\"},\"hover_glyph\":null,\"muted_glyph\":{\"id\":\"24541\"},\"nonselection_glyph\":{\"id\":\"24540\"},\"selection_glyph\":null,\"view\":{\"id\":\"24543\"}},\"id\":\"24542\",\"type\":\"GlyphRenderer\"},{\"attributes\":{},\"id\":\"24588\",\"type\":\"DatetimeTickFormatter\"},{\"attributes\":{\"base\":60,\"mantissas\":[1,2,5,10,15,20,30],\"max_interval\":1800000.0,\"min_interval\":1000.0,\"num_minor_ticks\":0},\"id\":\"24600\",\"type\":\"AdaptiveTicker\"},{\"attributes\":{\"line_color\":\"#1f77b3\",\"line_width\":2,\"x\":{\"field\":\"date\"},\"y\":{\"field\":\"positive\"}},\"id\":\"24494\",\"type\":\"Line\"},{\"attributes\":{},\"id\":\"24640\",\"type\":\"UnionRenderers\"},{\"attributes\":{\"days\":[1,4,7,10,13,16,19,22,25,28]},\"id\":\"24645\",\"type\":\"DaysTicker\"},{\"attributes\":{\"line_alpha\":0.2,\"line_color\":\"#1f77b3\",\"line_width\":2,\"x\":{\"field\":\"date\"},\"y\":{\"field\":\"positive\"}},\"id\":\"24496\",\"type\":\"Line\"},{\"attributes\":{\"months\":[0,6]},\"id\":\"24651\",\"type\":\"MonthsTicker\"},{\"attributes\":{\"end\":1588896000000.0,\"reset_end\":1588896000000.0,\"reset_start\":1579651200000.0,\"start\":1579651200000.0,\"tags\":[[[\"date\",\"date\",null]]]},\"id\":\"24458\",\"type\":\"Range1d\"},{\"attributes\":{\"axis\":{\"id\":\"24470\"},\"grid_line_color\":null,\"ticker\":null},\"id\":\"24473\",\"type\":\"Grid\"},{\"attributes\":{\"months\":[0,4,8]},\"id\":\"24650\",\"type\":\"MonthsTicker\"},{\"attributes\":{},\"id\":\"24523\",\"type\":\"SaveTool\"},{\"attributes\":{\"num_minor_ticks\":5,\"tickers\":[{\"id\":\"24599\"},{\"id\":\"24600\"},{\"id\":\"24601\"},{\"id\":\"24602\"},{\"id\":\"24603\"},{\"id\":\"24604\"},{\"id\":\"24605\"},{\"id\":\"24606\"},{\"id\":\"24607\"},{\"id\":\"24608\"},{\"id\":\"24609\"},{\"id\":\"24610\"}]},\"id\":\"24471\",\"type\":\"DatetimeTicker\"},{\"attributes\":{},\"id\":\"24475\",\"type\":\"BasicTicker\"},{\"attributes\":{\"days\":[1,2,3,4,5,6,7,8,9,10,11,12,13,14,15,16,17,18,19,20,21,22,23,24,25,26,27,28,29,30,31]},\"id\":\"24644\",\"type\":\"DaysTicker\"},{\"attributes\":{\"callback\":null,\"formatters\":{\"@{Date}\":\"datetime\"},\"renderers\":[{\"id\":\"24542\"}],\"tags\":[\"hv_created\"],\"tooltips\":[[\"Date\",\"@{Date}{%F %T}\"],[\"Value\",\"@{Value}\"]]},\"id\":\"24505\",\"type\":\"HoverTool\"},{\"attributes\":{},\"id\":\"24524\",\"type\":\"PanTool\"},{\"attributes\":{\"children\":[{\"id\":\"24457\"},{\"id\":\"24657\"},{\"id\":\"25138\"}],\"margin\":[0,0,0,0],\"name\":\"Row54177\",\"tags\":[\"embedded\"]},\"id\":\"24456\",\"type\":\"Row\"},{\"attributes\":{\"axis\":{\"id\":\"24474\"},\"dimension\":1,\"grid_line_color\":null,\"ticker\":null},\"id\":\"24477\",\"type\":\"Grid\"},{\"attributes\":{\"source\":{\"id\":\"24536\"}},\"id\":\"24543\",\"type\":\"CDSView\"},{\"attributes\":{},\"id\":\"24525\",\"type\":\"WheelZoomTool\"},{\"attributes\":{\"overlay\":{\"id\":\"24528\"}},\"id\":\"24526\",\"type\":\"BoxZoomTool\"},{\"attributes\":{\"margin\":[5,5,5,5],\"name\":\"HSpacer54181\",\"sizing_mode\":\"stretch_width\"},\"id\":\"24457\",\"type\":\"Spacer\"}],\"root_ids\":[\"24456\"]},\"title\":\"Bokeh Application\",\"version\":\"2.0.2\"}};\n",
       "  var render_items = [{\"docid\":\"6983bc9e-37aa-4d25-ad4c-60d6c60fc44b\",\"root_ids\":[\"24456\"],\"roots\":{\"24456\":\"7ab89146-e25e-4761-81b8-d86ee87533cc\"}}];\n",
       "  root.Bokeh.embed.embed_items_notebook(docs_json, render_items);\n",
       "  }\n",
       "if (root.Bokeh !== undefined) {\n",
       "    embed_document(root);\n",
       "  } else {\n",
       "    var attempts = 0;\n",
       "    var timer = setInterval(function(root) {\n",
       "      if (root.Bokeh !== undefined) {\n",
       "        clearInterval(timer);\n",
       "        embed_document(root);\n",
       "      } else if (document.readyState == \"complete\") {\n",
       "        attempts++;\n",
       "        if (attempts > 100) {\n",
       "          clearInterval(timer);\n",
       "          console.log(\"Bokeh: ERROR: Unable to run BokehJS code because BokehJS library is missing\");\n",
       "        }\n",
       "      }\n",
       "    }, 10, root)\n",
       "  }\n",
       "})(window);</script>"
      ],
      "text/plain": [
       ":Layout\n",
       "   .Curve.I   :Curve   [date]   (positive)\n",
       "   .Curve.II  :Curve   [Date]   (Value)\n",
       "   .Curve.III :Curve   [Date]   (Value)"
      ]
     },
     "execution_count": 112,
     "metadata": {
      "application/vnd.holoviews_exec.v0+json": {
       "id": "24456"
      }
     },
     "output_type": "execute_result"
    }
   ],
   "source": [
    "c_df.hvplot(x='date',y='positive') + mydata.loc[mydata.index>'2019-11-01'].hvplot(title=\"WTI Crude Oil Price Per Barrel\") + saudi_df.loc[saudi_df.index>'2019-11-01'].hvplot(title='Crude Oil Production, Saudi Arabia, Monthly',ylim=(9.5,12))"
   ]
  },
  {
   "cell_type": "code",
   "execution_count": 79,
   "metadata": {},
   "outputs": [],
   "source": [
    "#saudi_df.hvplot(x='Date',y='Value',groupby='Value',kind='line')"
   ]
  },
  {
   "cell_type": "code",
   "execution_count": 121,
   "metadata": {},
   "outputs": [
    {
     "name": "stderr",
     "output_type": "stream",
     "text": [
      "WARNING:param.CurvePlot55817: title_format is deprecated. Please use title instead\n",
      "WARNING:param.CurvePlot55817: title_format is deprecated. Please use title instead\n"
     ]
    },
    {
     "data": {},
     "metadata": {},
     "output_type": "display_data"
    },
    {
     "data": {
      "application/vnd.holoviews_exec.v0+json": "",
      "text/html": [
       "<div id='26623'>\n",
       "\n",
       "\n",
       "\n",
       "\n",
       "\n",
       "  <div class=\"bk-root\" id=\"09f2deac-9e5c-4241-a6e6-da76f985f277\" data-root-id=\"26623\"></div>\n",
       "</div>\n",
       "<script type=\"application/javascript\">(function(root) {\n",
       "  function embed_document(root) {\n",
       "  var docs_json = {\"0e732e14-05f9-4927-a615-b03943ea0151\":{\"roots\":{\"references\":[{\"attributes\":{},\"id\":\"26642\",\"type\":\"BasicTicker\"},{\"attributes\":{\"end\":1590883200000.0,\"reset_end\":1590883200000.0,\"reset_start\":1575072000000.0,\"start\":1575072000000.0,\"tags\":[[[\"Date\",\"Date\",null]]]},\"id\":\"26625\",\"type\":\"Range1d\"},{\"attributes\":{\"align\":null,\"below\":[{\"id\":\"26637\"}],\"center\":[{\"id\":\"26640\"},{\"id\":\"26644\"}],\"left\":[{\"id\":\"26641\"}],\"margin\":null,\"min_border_bottom\":10,\"min_border_left\":10,\"min_border_right\":10,\"min_border_top\":10,\"plot_height\":300,\"plot_width\":700,\"renderers\":[{\"id\":\"26664\"}],\"sizing_mode\":\"fixed\",\"title\":{\"id\":\"26629\"},\"toolbar\":{\"id\":\"26651\"},\"x_range\":{\"id\":\"26625\"},\"x_scale\":{\"id\":\"26633\"},\"y_range\":{\"id\":\"26626\"},\"y_scale\":{\"id\":\"26635\"}},\"id\":\"26628\",\"subtype\":\"Figure\",\"type\":\"Plot\"},{\"attributes\":{\"axis\":{\"id\":\"26641\"},\"dimension\":1,\"grid_line_color\":null,\"ticker\":null},\"id\":\"26644\",\"type\":\"Grid\"},{\"attributes\":{},\"id\":\"26689\",\"type\":\"YearsTicker\"},{\"attributes\":{\"source\":{\"id\":\"26658\"}},\"id\":\"26665\",\"type\":\"CDSView\"},{\"attributes\":{\"axis\":{\"id\":\"26637\"},\"grid_line_color\":null,\"ticker\":null},\"id\":\"26640\",\"type\":\"Grid\"},{\"attributes\":{},\"id\":\"26649\",\"type\":\"ResetTool\"},{\"attributes\":{\"data\":{\"Date\":{\"__ndarray__\":\"AACAtpnrdkIAAMAIlPV2QgAAAFuO/3ZCAADA4eMId0IAAAA03hJ3QgAAgCCGHHdCAADAcoAmd0I=\",\"dtype\":\"float64\",\"shape\":[7]},\"Value\":{\"__ndarray__\":\"j8L1KFwPTUBSuB6F65FOQArXo3A9yklACtejcD1qRkDD9Shcj4I0QHsUrkfhOjNAuB6F61F4NEA=\",\"dtype\":\"float64\",\"shape\":[7]}},\"selected\":{\"id\":\"26659\"},\"selection_policy\":{\"id\":\"26677\"}},\"id\":\"26658\",\"type\":\"ColumnDataSource\"},{\"attributes\":{\"margin\":[5,5,5,5],\"name\":\"HSpacer55793\",\"sizing_mode\":\"stretch_width\"},\"id\":\"26690\",\"type\":\"Spacer\"},{\"attributes\":{},\"id\":\"26645\",\"type\":\"SaveTool\"},{\"attributes\":{\"days\":[1,4,7,10,13,16,19,22,25,28]},\"id\":\"26682\",\"type\":\"DaysTicker\"},{\"attributes\":{\"days\":[1,15]},\"id\":\"26684\",\"type\":\"DaysTicker\"},{\"attributes\":{},\"id\":\"26647\",\"type\":\"WheelZoomTool\"},{\"attributes\":{},\"id\":\"26667\",\"type\":\"DatetimeTickFormatter\"},{\"attributes\":{\"days\":[1,2,3,4,5,6,7,8,9,10,11,12,13,14,15,16,17,18,19,20,21,22,23,24,25,26,27,28,29,30,31]},\"id\":\"26681\",\"type\":\"DaysTicker\"},{\"attributes\":{\"data_source\":{\"id\":\"26658\"},\"glyph\":{\"id\":\"26661\"},\"hover_glyph\":null,\"muted_glyph\":{\"id\":\"26663\"},\"nonselection_glyph\":{\"id\":\"26662\"},\"selection_glyph\":null,\"view\":{\"id\":\"26665\"}},\"id\":\"26664\",\"type\":\"GlyphRenderer\"},{\"attributes\":{},\"id\":\"26677\",\"type\":\"UnionRenderers\"},{\"attributes\":{\"line_alpha\":0.1,\"line_color\":\"#1f77b3\",\"line_width\":2,\"x\":{\"field\":\"Date\"},\"y\":{\"field\":\"Value\"}},\"id\":\"26662\",\"type\":\"Line\"},{\"attributes\":{\"axis_label\":\"Date\",\"bounds\":\"auto\",\"formatter\":{\"id\":\"26667\"},\"major_label_orientation\":\"horizontal\",\"ticker\":{\"id\":\"26638\"}},\"id\":\"26637\",\"type\":\"DatetimeAxis\"},{\"attributes\":{\"active_drag\":\"auto\",\"active_inspect\":\"auto\",\"active_multi\":null,\"active_scroll\":\"auto\",\"active_tap\":\"auto\",\"tools\":[{\"id\":\"26627\"},{\"id\":\"26645\"},{\"id\":\"26646\"},{\"id\":\"26647\"},{\"id\":\"26648\"},{\"id\":\"26649\"}]},\"id\":\"26651\",\"type\":\"Toolbar\"},{\"attributes\":{\"callback\":null,\"formatters\":{\"@{Date}\":\"datetime\"},\"renderers\":[{\"id\":\"26664\"}],\"tags\":[\"hv_created\"],\"tooltips\":[[\"Date\",\"@{Date}{%F %T}\"],[\"Value\",\"@{Value}\"]]},\"id\":\"26627\",\"type\":\"HoverTool\"},{\"attributes\":{\"end\":65.331,\"reset_end\":65.331,\"reset_start\":15.039000000000001,\"start\":15.039000000000001,\"tags\":[[[\"Value\",\"Value\",null]]]},\"id\":\"26626\",\"type\":\"Range1d\"},{\"attributes\":{},\"id\":\"26669\",\"type\":\"BasicTickFormatter\"},{\"attributes\":{\"bottom_units\":\"screen\",\"fill_alpha\":0.5,\"fill_color\":\"lightgrey\",\"left_units\":\"screen\",\"level\":\"overlay\",\"line_alpha\":1.0,\"line_color\":\"black\",\"line_dash\":[4,4],\"line_width\":2,\"render_mode\":\"css\",\"right_units\":\"screen\",\"top_units\":\"screen\"},\"id\":\"26650\",\"type\":\"BoxAnnotation\"},{\"attributes\":{\"axis_label\":\"Price Per Barrel - USD\",\"bounds\":\"auto\",\"formatter\":{\"id\":\"26669\"},\"major_label_orientation\":\"horizontal\",\"ticker\":{\"id\":\"26642\"}},\"id\":\"26641\",\"type\":\"LinearAxis\"},{\"attributes\":{},\"id\":\"26633\",\"type\":\"LinearScale\"},{\"attributes\":{\"months\":[0,6]},\"id\":\"26688\",\"type\":\"MonthsTicker\"},{\"attributes\":{\"days\":[1,8,15,22]},\"id\":\"26683\",\"type\":\"DaysTicker\"},{\"attributes\":{\"line_color\":\"#1f77b3\",\"line_width\":2,\"x\":{\"field\":\"Date\"},\"y\":{\"field\":\"Value\"}},\"id\":\"26661\",\"type\":\"Line\"},{\"attributes\":{\"base\":24,\"mantissas\":[1,2,4,6,8,12],\"max_interval\":43200000.0,\"min_interval\":3600000.0,\"num_minor_ticks\":0},\"id\":\"26680\",\"type\":\"AdaptiveTicker\"},{\"attributes\":{\"months\":[0,2,4,6,8,10]},\"id\":\"26686\",\"type\":\"MonthsTicker\"},{\"attributes\":{\"base\":60,\"mantissas\":[1,2,5,10,15,20,30],\"max_interval\":1800000.0,\"min_interval\":1000.0,\"num_minor_ticks\":0},\"id\":\"26679\",\"type\":\"AdaptiveTicker\"},{\"attributes\":{\"months\":[0,4,8]},\"id\":\"26687\",\"type\":\"MonthsTicker\"},{\"attributes\":{\"margin\":[5,5,5,5],\"name\":\"HSpacer55792\",\"sizing_mode\":\"stretch_width\"},\"id\":\"26624\",\"type\":\"Spacer\"},{\"attributes\":{\"overlay\":{\"id\":\"26650\"}},\"id\":\"26648\",\"type\":\"BoxZoomTool\"},{\"attributes\":{},\"id\":\"26659\",\"type\":\"Selection\"},{\"attributes\":{\"months\":[0,1,2,3,4,5,6,7,8,9,10,11]},\"id\":\"26685\",\"type\":\"MonthsTicker\"},{\"attributes\":{\"children\":[{\"id\":\"26624\"},{\"id\":\"26628\"},{\"id\":\"26690\"}],\"margin\":[0,0,0,0],\"name\":\"Row55788\",\"tags\":[\"embedded\"]},\"id\":\"26623\",\"type\":\"Row\"},{\"attributes\":{},\"id\":\"26635\",\"type\":\"LinearScale\"},{\"attributes\":{\"line_alpha\":0.2,\"line_color\":\"#1f77b3\",\"line_width\":2,\"x\":{\"field\":\"Date\"},\"y\":{\"field\":\"Value\"}},\"id\":\"26663\",\"type\":\"Line\"},{\"attributes\":{\"mantissas\":[1,2,5],\"max_interval\":500.0,\"num_minor_ticks\":0},\"id\":\"26678\",\"type\":\"AdaptiveTicker\"},{\"attributes\":{},\"id\":\"26646\",\"type\":\"PanTool\"},{\"attributes\":{\"num_minor_ticks\":5,\"tickers\":[{\"id\":\"26678\"},{\"id\":\"26679\"},{\"id\":\"26680\"},{\"id\":\"26681\"},{\"id\":\"26682\"},{\"id\":\"26683\"},{\"id\":\"26684\"},{\"id\":\"26685\"},{\"id\":\"26686\"},{\"id\":\"26687\"},{\"id\":\"26688\"},{\"id\":\"26689\"}]},\"id\":\"26638\",\"type\":\"DatetimeTicker\"},{\"attributes\":{\"text\":\"WTI Crude Oil Price Per Barrel\",\"text_color\":{\"value\":\"black\"},\"text_font_size\":{\"value\":\"12pt\"}},\"id\":\"26629\",\"type\":\"Title\"}],\"root_ids\":[\"26623\"]},\"title\":\"Bokeh Application\",\"version\":\"2.0.2\"}};\n",
       "  var render_items = [{\"docid\":\"0e732e14-05f9-4927-a615-b03943ea0151\",\"root_ids\":[\"26623\"],\"roots\":{\"26623\":\"09f2deac-9e5c-4241-a6e6-da76f985f277\"}}];\n",
       "  root.Bokeh.embed.embed_items_notebook(docs_json, render_items);\n",
       "  }\n",
       "if (root.Bokeh !== undefined) {\n",
       "    embed_document(root);\n",
       "  } else {\n",
       "    var attempts = 0;\n",
       "    var timer = setInterval(function(root) {\n",
       "      if (root.Bokeh !== undefined) {\n",
       "        clearInterval(timer);\n",
       "        embed_document(root);\n",
       "      } else if (document.readyState == \"complete\") {\n",
       "        attempts++;\n",
       "        if (attempts > 100) {\n",
       "          clearInterval(timer);\n",
       "          console.log(\"Bokeh: ERROR: Unable to run BokehJS code because BokehJS library is missing\");\n",
       "        }\n",
       "      }\n",
       "    }, 10, root)\n",
       "  }\n",
       "})(window);</script>"
      ],
      "text/plain": [
       ":Curve   [Date]   (Value)"
      ]
     },
     "execution_count": 121,
     "metadata": {
      "application/vnd.holoviews_exec.v0+json": {
       "id": "26623"
      }
     },
     "output_type": "execute_result"
    }
   ],
   "source": [
    "mydata.loc[mydata.index>'2019-11-01'].hvplot(title=\"WTI Crude Oil Price Per Barrel\", ylabel='Price Per Barrel - USD') "
   ]
  },
  {
   "cell_type": "code",
   "execution_count": null,
   "metadata": {},
   "outputs": [],
   "source": []
  }
 ],
 "metadata": {
  "kernelspec": {
   "display_name": "Python 3",
   "language": "python",
   "name": "python3"
  },
  "language_info": {
   "codemirror_mode": {
    "name": "ipython",
    "version": 3
   },
   "file_extension": ".py",
   "mimetype": "text/x-python",
   "name": "python",
   "nbconvert_exporter": "python",
   "pygments_lexer": "ipython3",
   "version": "3.7.6"
  }
 },
 "nbformat": 4,
 "nbformat_minor": 4
}
