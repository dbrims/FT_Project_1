{
 "cells": [
  {
   "cell_type": "code",
   "execution_count": 32,
   "metadata": {},
   "outputs": [],
   "source": [
    "import eia\n",
    "import os\n",
    "import datetime\n",
    "import pandas as pd\n",
    "import json\n",
    "import numpy as np\n",
    "import requests\n",
    "import quandl\n",
    "import plotly.express as px\n",
    "import panel as pn\n",
    "from panel.interact import interact\n",
    "from panel import widgets\n",
    "from pathlib import Path\n",
    "import matplotlib.pyplot as plts\n",
    "import hvplot.pandas \n",
    "pn.extension(\"plotly\")"
   ]
  },
  {
   "cell_type": "code",
   "execution_count": 33,
   "metadata": {},
   "outputs": [],
   "source": [
    "sp = quandl.get(\"MULTPL/SP500_REAL_PRICE_MONTH\")"
   ]
  },
  {
   "cell_type": "code",
   "execution_count": 34,
   "metadata": {},
   "outputs": [
    {
     "data": {
      "text/html": [
       "<div>\n",
       "<style scoped>\n",
       "    .dataframe tbody tr th:only-of-type {\n",
       "        vertical-align: middle;\n",
       "    }\n",
       "\n",
       "    .dataframe tbody tr th {\n",
       "        vertical-align: top;\n",
       "    }\n",
       "\n",
       "    .dataframe thead th {\n",
       "        text-align: right;\n",
       "    }\n",
       "</style>\n",
       "<table border=\"1\" class=\"dataframe\">\n",
       "  <thead>\n",
       "    <tr style=\"text-align: right;\">\n",
       "      <th></th>\n",
       "      <th>Value</th>\n",
       "    </tr>\n",
       "    <tr>\n",
       "      <th>Date</th>\n",
       "      <th></th>\n",
       "    </tr>\n",
       "  </thead>\n",
       "  <tbody>\n",
       "    <tr>\n",
       "      <th>2020-03-01</th>\n",
       "      <td>2652.39</td>\n",
       "    </tr>\n",
       "    <tr>\n",
       "      <th>2020-03-31</th>\n",
       "      <td>2584.59</td>\n",
       "    </tr>\n",
       "    <tr>\n",
       "      <th>2020-04-01</th>\n",
       "      <td>2761.63</td>\n",
       "    </tr>\n",
       "    <tr>\n",
       "      <th>2020-04-30</th>\n",
       "      <td>2912.43</td>\n",
       "    </tr>\n",
       "    <tr>\n",
       "      <th>2020-05-01</th>\n",
       "      <td>2830.71</td>\n",
       "    </tr>\n",
       "  </tbody>\n",
       "</table>\n",
       "</div>"
      ],
      "text/plain": [
       "              Value\n",
       "Date               \n",
       "2020-03-01  2652.39\n",
       "2020-03-31  2584.59\n",
       "2020-04-01  2761.63\n",
       "2020-04-30  2912.43\n",
       "2020-05-01  2830.71"
      ]
     },
     "execution_count": 34,
     "metadata": {},
     "output_type": "execute_result"
    }
   ],
   "source": [
    "sp.tail()"
   ]
  },
  {
   "cell_type": "code",
   "execution_count": null,
   "metadata": {},
   "outputs": [],
   "source": []
  },
  {
   "cell_type": "code",
   "execution_count": 49,
   "metadata": {},
   "outputs": [
    {
     "name": "stderr",
     "output_type": "stream",
     "text": [
      "WARNING:param.CurvePlot04695: title_format is deprecated. Please use title instead\n",
      "WARNING:param.CurvePlot04695: title_format is deprecated. Please use title instead\n"
     ]
    },
    {
     "data": {},
     "metadata": {},
     "output_type": "display_data"
    },
    {
     "data": {
      "application/vnd.holoviews_exec.v0+json": "",
      "text/html": [
       "<div id='4212'>\n",
       "\n",
       "\n",
       "\n",
       "\n",
       "\n",
       "  <div class=\"bk-root\" id=\"f5c652c2-836b-4947-b799-9f49e3102bc0\" data-root-id=\"4212\"></div>\n",
       "</div>\n",
       "<script type=\"application/javascript\">(function(root) {\n",
       "  function embed_document(root) {\n",
       "  var docs_json = {\"8c286559-8061-44e5-b449-02091aa76dcc\":{\"roots\":{\"references\":[{\"attributes\":{\"axis\":{\"id\":\"4230\"},\"dimension\":1,\"grid_line_color\":null,\"ticker\":null},\"id\":\"4233\",\"type\":\"Grid\"},{\"attributes\":{\"children\":[{\"id\":\"4213\"},{\"id\":\"4217\"},{\"id\":\"4279\"}],\"margin\":[0,0,0,0],\"name\":\"Row04666\",\"tags\":[\"embedded\"]},\"id\":\"4212\",\"type\":\"Row\"},{\"attributes\":{},\"id\":\"4224\",\"type\":\"LinearScale\"},{\"attributes\":{},\"id\":\"4231\",\"type\":\"BasicTicker\"},{\"attributes\":{\"line_alpha\":0.1,\"line_color\":\"#1f77b3\",\"line_width\":2,\"x\":{\"field\":\"Date\"},\"y\":{\"field\":\"Value\"}},\"id\":\"4251\",\"type\":\"Line\"},{\"attributes\":{},\"id\":\"4258\",\"type\":\"BasicTickFormatter\"},{\"attributes\":{},\"id\":\"4236\",\"type\":\"WheelZoomTool\"},{\"attributes\":{\"mantissas\":[1,2,5],\"max_interval\":500.0,\"num_minor_ticks\":0},\"id\":\"4267\",\"type\":\"AdaptiveTicker\"},{\"attributes\":{\"base\":60,\"mantissas\":[1,2,5,10,15,20,30],\"max_interval\":1800000.0,\"min_interval\":1000.0,\"num_minor_ticks\":0},\"id\":\"4268\",\"type\":\"AdaptiveTicker\"},{\"attributes\":{\"months\":[0,4,8]},\"id\":\"4276\",\"type\":\"MonthsTicker\"},{\"attributes\":{},\"id\":\"4235\",\"type\":\"PanTool\"},{\"attributes\":{},\"id\":\"4256\",\"type\":\"DatetimeTickFormatter\"},{\"attributes\":{\"callback\":null,\"formatters\":{\"@{Date}\":\"datetime\"},\"renderers\":[{\"id\":\"4253\"}],\"tags\":[\"hv_created\"],\"tooltips\":[[\"Date\",\"@{Date}{%F %T}\"],[\"Value\",\"@{Value}\"]]},\"id\":\"4216\",\"type\":\"HoverTool\"},{\"attributes\":{},\"id\":\"4234\",\"type\":\"SaveTool\"},{\"attributes\":{\"active_drag\":\"auto\",\"active_inspect\":\"auto\",\"active_multi\":null,\"active_scroll\":\"auto\",\"active_tap\":\"auto\",\"tools\":[{\"id\":\"4216\"},{\"id\":\"4234\"},{\"id\":\"4235\"},{\"id\":\"4236\"},{\"id\":\"4237\"},{\"id\":\"4238\"}]},\"id\":\"4240\",\"type\":\"Toolbar\"},{\"attributes\":{\"days\":[1,2,3,4,5,6,7,8,9,10,11,12,13,14,15,16,17,18,19,20,21,22,23,24,25,26,27,28,29,30,31]},\"id\":\"4270\",\"type\":\"DaysTicker\"},{\"attributes\":{\"end\":3400,\"reset_end\":3400,\"reset_start\":2400,\"start\":2400,\"tags\":[[[\"Value\",\"Value\",null]]]},\"id\":\"4215\",\"type\":\"Range1d\"},{\"attributes\":{},\"id\":\"4222\",\"type\":\"LinearScale\"},{\"attributes\":{\"data_source\":{\"id\":\"4247\"},\"glyph\":{\"id\":\"4250\"},\"hover_glyph\":null,\"muted_glyph\":{\"id\":\"4252\"},\"nonselection_glyph\":{\"id\":\"4251\"},\"selection_glyph\":null,\"view\":{\"id\":\"4254\"}},\"id\":\"4253\",\"type\":\"GlyphRenderer\"},{\"attributes\":{\"line_alpha\":0.2,\"line_color\":\"#1f77b3\",\"line_width\":2,\"x\":{\"field\":\"Date\"},\"y\":{\"field\":\"Value\"}},\"id\":\"4252\",\"type\":\"Line\"},{\"attributes\":{\"days\":[1,4,7,10,13,16,19,22,25,28]},\"id\":\"4271\",\"type\":\"DaysTicker\"},{\"attributes\":{\"months\":[0,1,2,3,4,5,6,7,8,9,10,11]},\"id\":\"4274\",\"type\":\"MonthsTicker\"},{\"attributes\":{\"margin\":[5,5,5,5],\"name\":\"HSpacer04670\",\"sizing_mode\":\"stretch_width\"},\"id\":\"4213\",\"type\":\"Spacer\"},{\"attributes\":{},\"id\":\"4238\",\"type\":\"ResetTool\"},{\"attributes\":{},\"id\":\"4265\",\"type\":\"UnionRenderers\"},{\"attributes\":{\"days\":[1,15]},\"id\":\"4273\",\"type\":\"DaysTicker\"},{\"attributes\":{\"months\":[0,2,4,6,8,10]},\"id\":\"4275\",\"type\":\"MonthsTicker\"},{\"attributes\":{},\"id\":\"4248\",\"type\":\"Selection\"},{\"attributes\":{\"bottom_units\":\"screen\",\"fill_alpha\":0.5,\"fill_color\":\"lightgrey\",\"left_units\":\"screen\",\"level\":\"overlay\",\"line_alpha\":1.0,\"line_color\":\"black\",\"line_dash\":[4,4],\"line_width\":2,\"render_mode\":\"css\",\"right_units\":\"screen\",\"top_units\":\"screen\"},\"id\":\"4239\",\"type\":\"BoxAnnotation\"},{\"attributes\":{\"base\":24,\"mantissas\":[1,2,4,6,8,12],\"max_interval\":43200000.0,\"min_interval\":3600000.0,\"num_minor_ticks\":0},\"id\":\"4269\",\"type\":\"AdaptiveTicker\"},{\"attributes\":{\"days\":[1,8,15,22]},\"id\":\"4272\",\"type\":\"DaysTicker\"},{\"attributes\":{\"months\":[0,6]},\"id\":\"4277\",\"type\":\"MonthsTicker\"},{\"attributes\":{},\"id\":\"4278\",\"type\":\"YearsTicker\"},{\"attributes\":{\"data\":{\"Date\":{\"__ndarray__\":\"AAAAW47/dkIAAMDA4P92QgAAAHyRCHdCAACARzYJd0IAAAA03hJ3QgAAwJkwE3dCAACAIIYcd0IAAECG2Bx3Qg==\",\"dtype\":\"float64\",\"shape\":[8]},\"Value\":{\"__ndarray__\":\"rkfhehQyqUCF61G4npqpQIXrUbieFadA4XoUrse4pEBI4XoULjGkQPYoXI9Ck6VAj8L1KNzApkBSuB6Fax2mQA==\",\"dtype\":\"float64\",\"shape\":[8]}},\"selected\":{\"id\":\"4248\"},\"selection_policy\":{\"id\":\"4265\"}},\"id\":\"4247\",\"type\":\"ColumnDataSource\"},{\"attributes\":{\"overlay\":{\"id\":\"4239\"}},\"id\":\"4237\",\"type\":\"BoxZoomTool\"},{\"attributes\":{\"text\":\"S&P 500, 2020\",\"text_color\":{\"value\":\"black\"},\"text_font_size\":{\"value\":\"12pt\"}},\"id\":\"4218\",\"type\":\"Title\"},{\"attributes\":{\"margin\":[5,5,5,5],\"name\":\"HSpacer04671\",\"sizing_mode\":\"stretch_width\"},\"id\":\"4279\",\"type\":\"Spacer\"},{\"attributes\":{\"axis\":{\"id\":\"4226\"},\"grid_line_color\":null,\"ticker\":null},\"id\":\"4229\",\"type\":\"Grid\"},{\"attributes\":{\"end\":1588291200000.0,\"reset_end\":1588291200000.0,\"reset_start\":1580428800000.0,\"start\":1580428800000.0,\"tags\":[[[\"Date\",\"Date\",null]]]},\"id\":\"4214\",\"type\":\"Range1d\"},{\"attributes\":{\"axis_label\":\"Date\",\"bounds\":\"auto\",\"formatter\":{\"id\":\"4256\"},\"major_label_orientation\":\"horizontal\",\"ticker\":{\"id\":\"4227\"}},\"id\":\"4226\",\"type\":\"DatetimeAxis\"},{\"attributes\":{\"source\":{\"id\":\"4247\"}},\"id\":\"4254\",\"type\":\"CDSView\"},{\"attributes\":{\"align\":null,\"below\":[{\"id\":\"4226\"}],\"center\":[{\"id\":\"4229\"},{\"id\":\"4233\"}],\"left\":[{\"id\":\"4230\"}],\"margin\":null,\"min_border_bottom\":10,\"min_border_left\":10,\"min_border_right\":10,\"min_border_top\":10,\"plot_height\":300,\"plot_width\":700,\"renderers\":[{\"id\":\"4253\"}],\"sizing_mode\":\"fixed\",\"title\":{\"id\":\"4218\"},\"toolbar\":{\"id\":\"4240\"},\"x_range\":{\"id\":\"4214\"},\"x_scale\":{\"id\":\"4222\"},\"y_range\":{\"id\":\"4215\"},\"y_scale\":{\"id\":\"4224\"}},\"id\":\"4217\",\"subtype\":\"Figure\",\"type\":\"Plot\"},{\"attributes\":{\"axis_label\":\"Level\",\"bounds\":\"auto\",\"formatter\":{\"id\":\"4258\"},\"major_label_orientation\":\"horizontal\",\"ticker\":{\"id\":\"4231\"}},\"id\":\"4230\",\"type\":\"LinearAxis\"},{\"attributes\":{\"num_minor_ticks\":5,\"tickers\":[{\"id\":\"4267\"},{\"id\":\"4268\"},{\"id\":\"4269\"},{\"id\":\"4270\"},{\"id\":\"4271\"},{\"id\":\"4272\"},{\"id\":\"4273\"},{\"id\":\"4274\"},{\"id\":\"4275\"},{\"id\":\"4276\"},{\"id\":\"4277\"},{\"id\":\"4278\"}]},\"id\":\"4227\",\"type\":\"DatetimeTicker\"},{\"attributes\":{\"line_color\":\"#1f77b3\",\"line_width\":2,\"x\":{\"field\":\"Date\"},\"y\":{\"field\":\"Value\"}},\"id\":\"4250\",\"type\":\"Line\"}],\"root_ids\":[\"4212\"]},\"title\":\"Bokeh Application\",\"version\":\"2.0.2\"}};\n",
       "  var render_items = [{\"docid\":\"8c286559-8061-44e5-b449-02091aa76dcc\",\"root_ids\":[\"4212\"],\"roots\":{\"4212\":\"f5c652c2-836b-4947-b799-9f49e3102bc0\"}}];\n",
       "  root.Bokeh.embed.embed_items_notebook(docs_json, render_items);\n",
       "  }\n",
       "if (root.Bokeh !== undefined) {\n",
       "    embed_document(root);\n",
       "  } else {\n",
       "    var attempts = 0;\n",
       "    var timer = setInterval(function(root) {\n",
       "      if (root.Bokeh !== undefined) {\n",
       "        clearInterval(timer);\n",
       "        embed_document(root);\n",
       "      } else if (document.readyState == \"complete\") {\n",
       "        attempts++;\n",
       "        if (attempts > 100) {\n",
       "          clearInterval(timer);\n",
       "          console.log(\"Bokeh: ERROR: Unable to run BokehJS code because BokehJS library is missing\");\n",
       "        }\n",
       "      }\n",
       "    }, 10, root)\n",
       "  }\n",
       "})(window);</script>"
      ],
      "text/plain": [
       ":Curve   [Date]   (Value)"
      ]
     },
     "execution_count": 49,
     "metadata": {
      "application/vnd.holoviews_exec.v0+json": {
       "id": "4212"
      }
     },
     "output_type": "execute_result"
    }
   ],
   "source": [
    "sp.loc[sp.index>'2020-01-01'].hvplot(title='S&P 500, 2020',ylim=(2400, 3400), ylabel='Level')"
   ]
  },
  {
   "cell_type": "code",
   "execution_count": 38,
   "metadata": {},
   "outputs": [
    {
     "data": {},
     "metadata": {},
     "output_type": "display_data"
    },
    {
     "data": {
      "application/vnd.holoviews_exec.v0+json": "",
      "text/html": [
       "<div id='2353'>\n",
       "\n",
       "\n",
       "\n",
       "\n",
       "\n",
       "  <div class=\"bk-root\" id=\"9bcd11ff-c976-4748-be76-b79f207b42e1\" data-root-id=\"2353\"></div>\n",
       "</div>\n",
       "<script type=\"application/javascript\">(function(root) {\n",
       "  function embed_document(root) {\n",
       "  var docs_json = {\"d29faa8d-b56e-4e7c-891d-171240776e66\":{\"roots\":{\"references\":[{\"attributes\":{\"days\":[1,4,7,10,13,16,19,22,25,28]},\"id\":\"2412\",\"type\":\"DaysTicker\"},{\"attributes\":{\"days\":[1,15]},\"id\":\"2414\",\"type\":\"DaysTicker\"},{\"attributes\":{\"text\":\"\",\"text_color\":{\"value\":\"black\"},\"text_font_size\":{\"value\":\"12pt\"}},\"id\":\"2359\",\"type\":\"Title\"},{\"attributes\":{\"bottom_units\":\"screen\",\"fill_alpha\":0.5,\"fill_color\":\"lightgrey\",\"left_units\":\"screen\",\"level\":\"overlay\",\"line_alpha\":1.0,\"line_color\":\"black\",\"line_dash\":[4,4],\"line_width\":2,\"render_mode\":\"css\",\"right_units\":\"screen\",\"top_units\":\"screen\"},\"id\":\"2380\",\"type\":\"BoxAnnotation\"},{\"attributes\":{\"end\":3530.307,\"reset_end\":3530.307,\"reset_start\":505.023,\"start\":505.023,\"tags\":[[[\"Value\",\"Value\",null]]]},\"id\":\"2356\",\"type\":\"Range1d\"},{\"attributes\":{},\"id\":\"2399\",\"type\":\"BasicTickFormatter\"},{\"attributes\":{\"active_drag\":\"auto\",\"active_inspect\":\"auto\",\"active_multi\":null,\"active_scroll\":\"auto\",\"active_tap\":\"auto\",\"tools\":[{\"id\":\"2357\"},{\"id\":\"2375\"},{\"id\":\"2376\"},{\"id\":\"2377\"},{\"id\":\"2378\"},{\"id\":\"2379\"}]},\"id\":\"2381\",\"type\":\"Toolbar\"},{\"attributes\":{},\"id\":\"2406\",\"type\":\"UnionRenderers\"},{\"attributes\":{},\"id\":\"2397\",\"type\":\"DatetimeTickFormatter\"},{\"attributes\":{},\"id\":\"2375\",\"type\":\"SaveTool\"},{\"attributes\":{\"days\":[1,8,15,22]},\"id\":\"2413\",\"type\":\"DaysTicker\"},{\"attributes\":{\"source\":{\"id\":\"2388\"}},\"id\":\"2395\",\"type\":\"CDSView\"},{\"attributes\":{\"margin\":[5,5,5,5],\"name\":\"HSpacer02878\",\"sizing_mode\":\"stretch_width\"},\"id\":\"2420\",\"type\":\"Spacer\"},{\"attributes\":{\"line_alpha\":0.2,\"line_color\":\"#1f77b3\",\"line_width\":2,\"x\":{\"field\":\"Date\"},\"y\":{\"field\":\"Value\"}},\"id\":\"2393\",\"type\":\"Line\"},{\"attributes\":{},\"id\":\"2376\",\"type\":\"PanTool\"},{\"attributes\":{\"base\":24,\"mantissas\":[1,2,4,6,8,12],\"max_interval\":43200000.0,\"min_interval\":3600000.0,\"num_minor_ticks\":0},\"id\":\"2410\",\"type\":\"AdaptiveTicker\"},{\"attributes\":{},\"id\":\"2377\",\"type\":\"WheelZoomTool\"},{\"attributes\":{\"children\":[{\"id\":\"2354\"},{\"id\":\"2358\"},{\"id\":\"2420\"}],\"margin\":[0,0,0,0],\"name\":\"Row02873\",\"tags\":[\"embedded\"]},\"id\":\"2353\",\"type\":\"Row\"},{\"attributes\":{\"overlay\":{\"id\":\"2380\"}},\"id\":\"2378\",\"type\":\"BoxZoomTool\"},{\"attributes\":{\"data\":{\"Date\":{\"__ndarray__\":\"AACAriR9cUIAAEA1eoZxQgAAgId0kHFCAAAAdByacUIAAEDGFqRxQgAAwLK+rXFCAAAABbm3cUIAAEBXs8FxQgAAwENby3FCAAAAllXVcUIAAICC/d5xQgAAwNT36HFCAAAAJ/LycUIAAABI9ftxQgAAQJrvBXJCAADAhpcPckIAAADZkRlyQgAAgMU5I3JCAADAFzQtckIAAABqLjdyQgAAgFbWQHJCAADAqNBKckIAAECVeFRyQgAAgOdyXnJCAADAOW1ockIAAMBacHFyQgAAAK1qe3JCAACAmRKFckIAAMDrDI9yQgAAQNi0mHJCAACAKq+ickIAAMB8qaxyQgAAQGlRtnJCAACAu0vAckIAAACo88lyQgAAQPrt03JCAACATOjdckIAAIBt6+ZyQgAAwL/l8HJCAABArI36ckIAAID+hwRzQgAAAOsvDnNCAABAPSoYc0IAAICPJCJzQgAAAHzMK3NCAABAzsY1c0IAAMC6bj9zQgAAAA1pSXNCAABAX2NTc0IAAADmuFxzQgAAQDizZnNCAADAJFtwc0IAAAB3VXpzQgAAgGP9g3NCAADAtfeNc0IAAAAI8pdzQgAAgPSZoXNCAADARpSrc0IAAEAzPLVzQgAAgIU2v3NCAADA1zDJc0IAAMD4M9JzQgAAAEsu3HNCAACAN9blc0IAAMCJ0O9zQgAAQHZ4+XNCAACAyHIDdEIAAMAabQ10QgAAQAcVF3RCAACAWQ8hdEIAAABGtyp0QgAAQJixNHRCAACA6qs+dEIAAIALr0d0QgAAwF2pUXRCAABASlFbdEIAAICcS2V0QgAAAInzbnRCAABA2+14dEIAAIAt6IJ0QgAAABqQjHRCAABAbIqWdEIAAMBYMqB0QgAAAKssqnRCAABA/Sa0dEIAAEAeKr10QgAAgHAkx3RCAAAAXczQdEIAAECvxtp0QgAAwJtu5HRCAAAA7mjudEIAAEBAY/h0QgAAwCwLAnVCAAAAfwUMdUIAAIBrrRV1QgAAwL2nH3VCAAAAEKIpdUIAAMCW9zJ1QgAAAOnxPHVCAACA1ZlGdUIAAMAnlFB1QgAAQBQ8WnVCAACAZjZkdUIAAMC4MG51QgAAQKXYd3VCAACA99KBdUIAAADkeot1QgAAQDZ1lXVCAACAiG+fdUIAAICpcqh1QgAAwPtssnVCAABA6BS8dUIAAIA6D8Z1QgAAACe3z3VCAABAebHZdUIAAIDLq+N1QgAAALhT7XVCAABACk73dUIAAMD29QB2QgAAAEnwCnZCAABAm+oUdkIAAEC87R12QgAAgA7oJ3ZCAAAA+48xdkIAAEBNijt2QgAAwDkyRXZCAAAAjCxPdkIAAEDeJll2QgAAwMrOYnZCAAAAHclsdkIAAIAJcXZ2QgAAwFtrgHZCAAAArmWKdkIAAADPaJN2QgAAQCFjnXZCAADADQundkIAAED6srB2QgAAAGAFsXZCAACATK26dkIAAMCep8R2QgAAAPGhznZCAACA3UnYdkIAAMAvROJ2QgAAQBzs63ZCAADACJT1dkIAAIBu5vV2QgAAAFuO/3ZCAADAwOD/dkIAAAB8kQh3QgAAgEc2CXdCAAAANN4Sd0IAAMCZMBN3QgAAgCCGHHdCAABAhtgcd0I=\",\"dtype\":\"float64\",\"shape\":[154]},\"Value\":{\"__ndarray__\":\"FK5H4XorlUD2KFyPwpOUQHsUrkfhaZVAexSuR+HslUAAAAAAAPWUQLgehetRpZNAexSuR+EFlEDNzMzMzAOTQGZmZmZmRo5AuB6F61GYi0AUrkfhemyLQHE9CtejDItApHA9CtcpiUDXo3A9CqmHQDMzMzMzgYpA4XoUrkczjEApXI/C9fCMQMP1KFyPPo1ApHA9CteNj0AzMzMzM1KQQHE9CtejrpBA4XoUrkcAkUDsUbgehVmRQLgehetRjpFAcT0K16MEkUAzMzMzMwCSQOF6FK5HtZJACtejcD2UkUA9CtejcO2QQDMzMzMz35BAhetRuB79kEC4HoXrUYiRQLgehetRTpJAw/UoXI+7kkCF61G4HmaTQBSuR+F6CpRAFK5H4XqklEApXI/C9WGUQNejcD0KzpRACtejcD3plEBcj8L1KB2UQPYoXI/CtJRACtejcD2FkkDsUbgehVeSQHsUrkfh3JJASOF6FK4pk0DhehSuR22TQLgehetRUpRAKVyPwvUhlUApXI/C9bSVQB+F61G4qZVArkfhehT1lEBSuB6F662UQIXrUbgeP5VAzczMzMztlUBI4XoUro2WQOF6FK5Hd5ZA16NwPQrKlUBcj8L1KDmWQJqZmZmZIZdACtejcD2hl0C4HoXrUTuYQM3MzMzMiphAj8L1KFyfmUCuR+F6FEuZQB+F61G4EppAj8L1KFwYmkBI4XoUrlyaQIXrUbge4JpAXI/C9Sjem0CF61G4Hj+cQD0K16NweZxAXI/C9ShknECuR+F6FB6dQNejcD0KIZ1ArkfhehSHnUCPwvUoXGyeQGZmZmZm1J5AhetRuB6mnkBSuB6F6ySfQK5H4XoURZ5A4XoUrkfyn0DXo3A9igygQB+F61G4sJ9AZmZmZmZEoEAUrkfh+j+gQB+F61G4XaBAexSuR+F/oECuR+F6lGagQOF6FK5HXKBAFK5H4Xrfn0BxPQrXo2GeQArXo3A9o59ACtejcD1BoEBcj8L1KAygQGZmZmZm+p1ASOF6FK7BnUDNzMzMzJefQK5H4XoUN6BAmpmZmRkjoEDhehSux0egQM3MzMzMyaBAZmZmZub1oEB7FK5HYdugQNejcD0KvqBAFK5H4frpoED2KFyPQo2hQArXo3A9xqFAuB6F69EzokBxPQrXo32iQIXrUbiebqJAMzMzM7O2okAUrkfh+gOjQDMzMzMzLKNAPQrXo3Awo0BI4XoUrnmjQAAAAAAA+qNAH4XrUThDpEBI4XoUrtCkQJqZmZmZy6VAuB6F61EipUDXo3A9ih2lQPYoXI9Cu6RAFK5H4foapUAzMzMzs4SlQOF6FK5H06VAcT0K16NTpkAAAAAAAKumQFK4HoXrwqVAKVyPwnVGpUCF61G4ng6kQOF6FK7HXqRAH4XrUbiFpUApXI/C9eelQJqZmZmZr6ZAUrgehWtNpkBcj8L1KIClQKRwPQpXlKZAH4XrUThop0AAAAAAAKOmQLgehetRTKdAj8L1KFxDp0DNzMzMzEGoQAAAAACA0ahAXI/C9Sg9qUBmZmZmZpypQK5H4XoUMqlAhetRuJ6aqUCF61G4nhWnQOF6FK7HuKRASOF6FC4xpED2KFyPQpOlQI/C9SjcwKZAUrgehWsdpkA=\",\"dtype\":\"float64\",\"shape\":[154]}},\"selected\":{\"id\":\"2389\"},\"selection_policy\":{\"id\":\"2406\"}},\"id\":\"2388\",\"type\":\"ColumnDataSource\"},{\"attributes\":{},\"id\":\"2363\",\"type\":\"LinearScale\"},{\"attributes\":{\"margin\":[5,5,5,5],\"name\":\"HSpacer02877\",\"sizing_mode\":\"stretch_width\"},\"id\":\"2354\",\"type\":\"Spacer\"},{\"attributes\":{\"end\":1588291200000.0,\"reset_end\":1588291200000.0,\"reset_start\":1201824000000.0,\"start\":1201824000000.0,\"tags\":[[[\"Date\",\"Date\",null]]]},\"id\":\"2355\",\"type\":\"Range1d\"},{\"attributes\":{\"months\":[0,2,4,6,8,10]},\"id\":\"2416\",\"type\":\"MonthsTicker\"},{\"attributes\":{},\"id\":\"2372\",\"type\":\"BasicTicker\"},{\"attributes\":{},\"id\":\"2379\",\"type\":\"ResetTool\"},{\"attributes\":{\"months\":[0,1,2,3,4,5,6,7,8,9,10,11]},\"id\":\"2415\",\"type\":\"MonthsTicker\"},{\"attributes\":{},\"id\":\"2419\",\"type\":\"YearsTicker\"},{\"attributes\":{\"mantissas\":[1,2,5],\"max_interval\":500.0,\"num_minor_ticks\":0},\"id\":\"2408\",\"type\":\"AdaptiveTicker\"},{\"attributes\":{\"days\":[1,2,3,4,5,6,7,8,9,10,11,12,13,14,15,16,17,18,19,20,21,22,23,24,25,26,27,28,29,30,31]},\"id\":\"2411\",\"type\":\"DaysTicker\"},{\"attributes\":{\"months\":[0,4,8]},\"id\":\"2417\",\"type\":\"MonthsTicker\"},{\"attributes\":{},\"id\":\"2365\",\"type\":\"LinearScale\"},{\"attributes\":{\"callback\":null,\"formatters\":{\"@{Date}\":\"datetime\"},\"renderers\":[{\"id\":\"2394\"}],\"tags\":[\"hv_created\"],\"tooltips\":[[\"Date\",\"@{Date}{%F %T}\"],[\"Value\",\"@{Value}\"]]},\"id\":\"2357\",\"type\":\"HoverTool\"},{\"attributes\":{\"axis_label\":\"Date\",\"bounds\":\"auto\",\"formatter\":{\"id\":\"2397\"},\"major_label_orientation\":\"horizontal\",\"ticker\":{\"id\":\"2368\"}},\"id\":\"2367\",\"type\":\"DatetimeAxis\"},{\"attributes\":{\"line_alpha\":0.1,\"line_color\":\"#1f77b3\",\"line_width\":2,\"x\":{\"field\":\"Date\"},\"y\":{\"field\":\"Value\"}},\"id\":\"2392\",\"type\":\"Line\"},{\"attributes\":{\"num_minor_ticks\":5,\"tickers\":[{\"id\":\"2408\"},{\"id\":\"2409\"},{\"id\":\"2410\"},{\"id\":\"2411\"},{\"id\":\"2412\"},{\"id\":\"2413\"},{\"id\":\"2414\"},{\"id\":\"2415\"},{\"id\":\"2416\"},{\"id\":\"2417\"},{\"id\":\"2418\"},{\"id\":\"2419\"}]},\"id\":\"2368\",\"type\":\"DatetimeTicker\"},{\"attributes\":{\"align\":null,\"below\":[{\"id\":\"2367\"}],\"center\":[{\"id\":\"2370\"},{\"id\":\"2374\"}],\"left\":[{\"id\":\"2371\"}],\"margin\":null,\"min_border_bottom\":10,\"min_border_left\":10,\"min_border_right\":10,\"min_border_top\":10,\"plot_height\":300,\"plot_width\":700,\"renderers\":[{\"id\":\"2394\"}],\"sizing_mode\":\"fixed\",\"title\":{\"id\":\"2359\"},\"toolbar\":{\"id\":\"2381\"},\"x_range\":{\"id\":\"2355\"},\"x_scale\":{\"id\":\"2363\"},\"y_range\":{\"id\":\"2356\"},\"y_scale\":{\"id\":\"2365\"}},\"id\":\"2358\",\"subtype\":\"Figure\",\"type\":\"Plot\"},{\"attributes\":{\"base\":60,\"mantissas\":[1,2,5,10,15,20,30],\"max_interval\":1800000.0,\"min_interval\":1000.0,\"num_minor_ticks\":0},\"id\":\"2409\",\"type\":\"AdaptiveTicker\"},{\"attributes\":{\"axis\":{\"id\":\"2367\"},\"grid_line_color\":null,\"ticker\":null},\"id\":\"2370\",\"type\":\"Grid\"},{\"attributes\":{\"line_color\":\"#1f77b3\",\"line_width\":2,\"x\":{\"field\":\"Date\"},\"y\":{\"field\":\"Value\"}},\"id\":\"2391\",\"type\":\"Line\"},{\"attributes\":{\"months\":[0,6]},\"id\":\"2418\",\"type\":\"MonthsTicker\"},{\"attributes\":{\"axis\":{\"id\":\"2371\"},\"dimension\":1,\"grid_line_color\":null,\"ticker\":null},\"id\":\"2374\",\"type\":\"Grid\"},{\"attributes\":{\"data_source\":{\"id\":\"2388\"},\"glyph\":{\"id\":\"2391\"},\"hover_glyph\":null,\"muted_glyph\":{\"id\":\"2393\"},\"nonselection_glyph\":{\"id\":\"2392\"},\"selection_glyph\":null,\"view\":{\"id\":\"2395\"}},\"id\":\"2394\",\"type\":\"GlyphRenderer\"},{\"attributes\":{\"axis_label\":\"Value\",\"bounds\":\"auto\",\"formatter\":{\"id\":\"2399\"},\"major_label_orientation\":\"horizontal\",\"ticker\":{\"id\":\"2372\"}},\"id\":\"2371\",\"type\":\"LinearAxis\"},{\"attributes\":{},\"id\":\"2389\",\"type\":\"Selection\"}],\"root_ids\":[\"2353\"]},\"title\":\"Bokeh Application\",\"version\":\"2.0.2\"}};\n",
       "  var render_items = [{\"docid\":\"d29faa8d-b56e-4e7c-891d-171240776e66\",\"root_ids\":[\"2353\"],\"roots\":{\"2353\":\"9bcd11ff-c976-4748-be76-b79f207b42e1\"}}];\n",
       "  root.Bokeh.embed.embed_items_notebook(docs_json, render_items);\n",
       "  }\n",
       "if (root.Bokeh !== undefined) {\n",
       "    embed_document(root);\n",
       "  } else {\n",
       "    var attempts = 0;\n",
       "    var timer = setInterval(function(root) {\n",
       "      if (root.Bokeh !== undefined) {\n",
       "        clearInterval(timer);\n",
       "        embed_document(root);\n",
       "      } else if (document.readyState == \"complete\") {\n",
       "        attempts++;\n",
       "        if (attempts > 100) {\n",
       "          clearInterval(timer);\n",
       "          console.log(\"Bokeh: ERROR: Unable to run BokehJS code because BokehJS library is missing\");\n",
       "        }\n",
       "      }\n",
       "    }, 10, root)\n",
       "  }\n",
       "})(window);</script>"
      ],
      "text/plain": [
       ":Curve   [Date]   (Value)"
      ]
     },
     "execution_count": 38,
     "metadata": {
      "application/vnd.holoviews_exec.v0+json": {
       "id": "2353"
      }
     },
     "output_type": "execute_result"
    }
   ],
   "source": [
    "sp.loc[sp.index>'2008-01-01'].hvplot()"
   ]
  },
  {
   "cell_type": "code",
   "execution_count": null,
   "metadata": {},
   "outputs": [],
   "source": []
  }
 ],
 "metadata": {
  "kernelspec": {
   "display_name": "Python 3",
   "language": "python",
   "name": "python3"
  },
  "language_info": {
   "codemirror_mode": {
    "name": "ipython",
    "version": 3
   },
   "file_extension": ".py",
   "mimetype": "text/x-python",
   "name": "python",
   "nbconvert_exporter": "python",
   "pygments_lexer": "ipython3",
   "version": "3.7.6"
  }
 },
 "nbformat": 4,
 "nbformat_minor": 4
}
